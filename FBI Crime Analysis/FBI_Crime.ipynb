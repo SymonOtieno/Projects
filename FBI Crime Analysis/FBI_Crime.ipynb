{
 "cells": [
  {
   "attachments": {},
   "cell_type": "markdown",
   "metadata": {},
   "source": [
    "# FBI Hate Crimes in USA 🇺🇸"
   ]
  },
  {
   "attachments": {},
   "cell_type": "markdown",
   "metadata": {},
   "source": [
    "America has a history with prejudice that is as long as it is sordid. That prejudice takes many forms; whether it’s based on race, gender, or sexuality. And whether or not we want to admit it, that history is not far behind us.\n",
    "Prejudice manifests itself in the United States in many ways, but one of the most violent and dangerous ways it manifests in our country is through Hate Crimes.\n",
    "\n",
    "According to The Hate Crime Statistics Program of the FBI’s Uniform Crime Reporting (UCR) Program, Hate Crimes are criminal offenses that were motivated, in whole or in part, by the offender’s bias against a race, gender, gender identity, religion, disability, sexual orientation, or ethnicity, and were committed against persons, property, or society.\n",
    "\n",
    "Hate crimes have varying levels of severity, ranging from Intimidation to Aggravated Assault, and sometimes--as in the cases of the tragic deaths of Matthew Shepard, Breonna Taylor, and George Floyd--murder.\n"
   ]
  },
  {
   "attachments": {},
   "cell_type": "markdown",
   "metadata": {},
   "source": [
    "The dataset provides information about differing hate crime incidents from 1991 to 2018. This data set includes the date, state, offender race, victim count, type of offense, etc. The data ranges from the year 1991 to 2018, allowing room for you to analyze and answer different questions."
   ]
  },
  {
   "attachments": {},
   "cell_type": "markdown",
   "metadata": {},
   "source": [
    "# Goal"
   ]
  },
  {
   "attachments": {},
   "cell_type": "markdown",
   "metadata": {},
   "source": [
    "The main focus of this project is to Analyze the ways in which hate crimes have behaved over the past few decades in the United States, in the hopes that our findings--whatever they may be--will raise awareness to the serious issues that make up the subject matter of this analysis.\n"
   ]
  },
  {
   "attachments": {},
   "cell_type": "markdown",
   "metadata": {},
   "source": [
    "# Business Task"
   ]
  },
  {
   "attachments": {},
   "cell_type": "markdown",
   "metadata": {},
   "source": [
    "Gain insight into the behavior of hate crime rates in the United States over the past few decades by answering the following questions:\n",
    "\n",
    "    > How has the rate of hate crimes behaved in America from 1991-2018? Has it increased? decreased?\n",
    "    > What types of hate crimes were most common from 1991-2018?\n",
    "    > How many hate crimes were committed against each group from 1991-2018?\n",
    "    > Which presidential administration had the highest/lowest hate crime incidents?\n",
    "    > Which states–if any–had the highest amount of total hate crimes committed?\n",
    "\n"
   ]
  },
  {
   "attachments": {},
   "cell_type": "markdown",
   "metadata": {},
   "source": [
    "#  Prepare"
   ]
  },
  {
   "attachments": {},
   "cell_type": "markdown",
   "metadata": {},
   "source": [
    "The dataset used  for this analysis is the United States Hate Crimes (1991-2018). This dataset is stored on Kaggle, and was made available by user Louisse Bye.\n",
    "This dataset provides information about differing hate crime incidents from 1991 up to 2018. It includes the date, state, and location on which an incident occurred, as well as the offender's race, the victim count, type of offense committed by the offender, motivation of said offense, etc.\n"
   ]
  },
  {
   "attachments": {},
   "cell_type": "markdown",
   "metadata": {},
   "source": [
    "## Data Structure and Organization\n",
    "\n",
    "One csv file containing just over 200,000 rows of data makes up the dataset. Since there are several rows for each year, each with its own incident, the data is referred to as \"long data.\" Each occurrence has a distinct identifier and a precise date (year, month, and day) connected. Since the bulk of the data in this dataset are categorical data on the features of an occurrence (date, location, bias), rather than quantitative data, it is possible to classify the majority of the data as qualitative data (numbers, etc)."
   ]
  },
  {
   "attachments": {},
   "cell_type": "markdown",
   "metadata": {},
   "source": [
    "## Data Credibility and Limitation\n",
    "\n",
    "This dataset is four years out of date as of the time of this research because it only includes data from 1991 to 2018. It won't include information from more recent years (like 2020, for instance).\n",
    "\n",
    "Additionally, this dataset has a sizable number of null values. Even though I'll try to address these in my study, it's important to be aware that this could provide a barrier to the accuracy of the findings.\n",
    "\n",
    "Finally, the majority of the data in this dataset is highly arbitrary. I cannot ensure that the people working for the organizations who produced the data in this dataset were completely free from bias or prejudice, nor can I promise that their biases had no influence on how they collected the data. Although unpleasant, it is also in line with the beast's nature."
   ]
  },
  {
   "attachments": {},
   "cell_type": "markdown",
   "metadata": {},
   "source": [
    "# Process\n",
    "\n",
    "I have chosen to conduct my analysis in Python due to its ease of use, power, and exceptional data analysis/visualization capabilities."
   ]
  },
  {
   "attachments": {},
   "cell_type": "markdown",
   "metadata": {},
   "source": [
    "Importing the Necessary Python Libraries\n",
    "\n",
    "We will be using the following Python libraries for our analysis;\n",
    "numpy\n",
    "pandas\n",
    "matplotlib\n",
    "seaborn\n",
    "plotly"
   ]
  },
  {
   "attachments": {},
   "cell_type": "markdown",
   "metadata": {},
   "source": [
    "After bringing in the libraries required for our analysis. The process of preparing the data takes up a significant portion of our work.\n",
    "Effective data preparation facilitates data analysis, reduces errors and inaccuracies that may arise during processing, and increases user accessibility for all processed data. Preprocessing includes the following steps:\n",
    "\n",
    "    > Importing our dataset\n",
    "    > Checking the structure of our data\n",
    "    > Cleaning the data\n",
    "        * Checking for Duplicates &\n",
    "        * Dealing with null values\n",
    "    > Correcting Data types\n",
    "    > Renaming column headers\n"
   ]
  },
  {
   "cell_type": "code",
   "execution_count": 1,
   "metadata": {},
   "outputs": [],
   "source": [
    "import pandas as pd # import pandas\n",
    "import numpy as np # import numpy\n",
    "import plotly.express as px\n",
    "import seaborn as sns # import seaborn\n",
    "import matplotlib.pyplot as plt # import matplotlib\n",
    "import plotly.graph_objs as go #import the graphical objects (plots) we'll need\n",
    "#more potentially useful plotly imports\n",
    "from plotly.offline import download_plotlyjs,init_notebook_mode,plot,iplot"
   ]
  },
  {
   "attachments": {},
   "cell_type": "markdown",
   "metadata": {},
   "source": [
    "i. Importing the dataset"
   ]
  },
  {
   "cell_type": "code",
   "execution_count": 2,
   "metadata": {},
   "outputs": [],
   "source": [
    "# Dataset Import using pandas\n",
    "hate_crime = pd.read_csv('/home/symon/Documents/BI/hate_crime.csv',low_memory=False)"
   ]
  },
  {
   "attachments": {},
   "cell_type": "markdown",
   "metadata": {},
   "source": [
    "ii. Checking the structure of the data"
   ]
  },
  {
   "cell_type": "code",
   "execution_count": 3,
   "metadata": {},
   "outputs": [
    {
     "data": {
      "text/html": [
       "<div>\n",
       "<style scoped>\n",
       "    .dataframe tbody tr th:only-of-type {\n",
       "        vertical-align: middle;\n",
       "    }\n",
       "\n",
       "    .dataframe tbody tr th {\n",
       "        vertical-align: top;\n",
       "    }\n",
       "\n",
       "    .dataframe thead th {\n",
       "        text-align: right;\n",
       "    }\n",
       "</style>\n",
       "<table border=\"1\" class=\"dataframe\">\n",
       "  <thead>\n",
       "    <tr style=\"text-align: right;\">\n",
       "      <th></th>\n",
       "      <th>INCIDENT_ID</th>\n",
       "      <th>DATA_YEAR</th>\n",
       "      <th>ORI</th>\n",
       "      <th>PUB_AGENCY_NAME</th>\n",
       "      <th>PUB_AGENCY_UNIT</th>\n",
       "      <th>AGENCY_TYPE_NAME</th>\n",
       "      <th>STATE_ABBR</th>\n",
       "      <th>STATE_NAME</th>\n",
       "      <th>DIVISION_NAME</th>\n",
       "      <th>REGION_NAME</th>\n",
       "      <th>...</th>\n",
       "      <th>OFFENDER_RACE</th>\n",
       "      <th>OFFENDER_ETHNICITY</th>\n",
       "      <th>VICTIM_COUNT</th>\n",
       "      <th>OFFENSE_NAME</th>\n",
       "      <th>TOTAL_INDIVIDUAL_VICTIMS</th>\n",
       "      <th>LOCATION_NAME</th>\n",
       "      <th>BIAS_DESC</th>\n",
       "      <th>VICTIM_TYPES</th>\n",
       "      <th>MULTIPLE_OFFENSE</th>\n",
       "      <th>MULTIPLE_BIAS</th>\n",
       "    </tr>\n",
       "  </thead>\n",
       "  <tbody>\n",
       "    <tr>\n",
       "      <th>0</th>\n",
       "      <td>3015</td>\n",
       "      <td>1991</td>\n",
       "      <td>AR0040200</td>\n",
       "      <td>Rogers</td>\n",
       "      <td>NaN</td>\n",
       "      <td>City</td>\n",
       "      <td>AR</td>\n",
       "      <td>Arkansas</td>\n",
       "      <td>West South Central</td>\n",
       "      <td>South</td>\n",
       "      <td>...</td>\n",
       "      <td>White</td>\n",
       "      <td>NaN</td>\n",
       "      <td>1</td>\n",
       "      <td>Intimidation</td>\n",
       "      <td>1.0</td>\n",
       "      <td>Highway/Road/Alley/Street/Sidewalk</td>\n",
       "      <td>Anti-Black or African American</td>\n",
       "      <td>Individual</td>\n",
       "      <td>S</td>\n",
       "      <td>S</td>\n",
       "    </tr>\n",
       "    <tr>\n",
       "      <th>1</th>\n",
       "      <td>3016</td>\n",
       "      <td>1991</td>\n",
       "      <td>AR0290100</td>\n",
       "      <td>Hope</td>\n",
       "      <td>NaN</td>\n",
       "      <td>City</td>\n",
       "      <td>AR</td>\n",
       "      <td>Arkansas</td>\n",
       "      <td>West South Central</td>\n",
       "      <td>South</td>\n",
       "      <td>...</td>\n",
       "      <td>Black or African American</td>\n",
       "      <td>NaN</td>\n",
       "      <td>1</td>\n",
       "      <td>Simple Assault</td>\n",
       "      <td>1.0</td>\n",
       "      <td>Highway/Road/Alley/Street/Sidewalk</td>\n",
       "      <td>Anti-White</td>\n",
       "      <td>Individual</td>\n",
       "      <td>S</td>\n",
       "      <td>S</td>\n",
       "    </tr>\n",
       "    <tr>\n",
       "      <th>2</th>\n",
       "      <td>43</td>\n",
       "      <td>1991</td>\n",
       "      <td>AR0350100</td>\n",
       "      <td>Pine Bluff</td>\n",
       "      <td>NaN</td>\n",
       "      <td>City</td>\n",
       "      <td>AR</td>\n",
       "      <td>Arkansas</td>\n",
       "      <td>West South Central</td>\n",
       "      <td>South</td>\n",
       "      <td>...</td>\n",
       "      <td>Black or African American</td>\n",
       "      <td>NaN</td>\n",
       "      <td>1</td>\n",
       "      <td>Aggravated Assault</td>\n",
       "      <td>1.0</td>\n",
       "      <td>Residence/Home</td>\n",
       "      <td>Anti-Black or African American</td>\n",
       "      <td>Individual</td>\n",
       "      <td>S</td>\n",
       "      <td>S</td>\n",
       "    </tr>\n",
       "    <tr>\n",
       "      <th>3</th>\n",
       "      <td>44</td>\n",
       "      <td>1991</td>\n",
       "      <td>AR0350100</td>\n",
       "      <td>Pine Bluff</td>\n",
       "      <td>NaN</td>\n",
       "      <td>City</td>\n",
       "      <td>AR</td>\n",
       "      <td>Arkansas</td>\n",
       "      <td>West South Central</td>\n",
       "      <td>South</td>\n",
       "      <td>...</td>\n",
       "      <td>Black or African American</td>\n",
       "      <td>NaN</td>\n",
       "      <td>2</td>\n",
       "      <td>Aggravated Assault;Destruction/Damage/Vandalis...</td>\n",
       "      <td>1.0</td>\n",
       "      <td>Highway/Road/Alley/Street/Sidewalk</td>\n",
       "      <td>Anti-White</td>\n",
       "      <td>Individual</td>\n",
       "      <td>M</td>\n",
       "      <td>S</td>\n",
       "    </tr>\n",
       "    <tr>\n",
       "      <th>4</th>\n",
       "      <td>3017</td>\n",
       "      <td>1991</td>\n",
       "      <td>AR0350100</td>\n",
       "      <td>Pine Bluff</td>\n",
       "      <td>NaN</td>\n",
       "      <td>City</td>\n",
       "      <td>AR</td>\n",
       "      <td>Arkansas</td>\n",
       "      <td>West South Central</td>\n",
       "      <td>South</td>\n",
       "      <td>...</td>\n",
       "      <td>Black or African American</td>\n",
       "      <td>NaN</td>\n",
       "      <td>1</td>\n",
       "      <td>Aggravated Assault</td>\n",
       "      <td>1.0</td>\n",
       "      <td>Service/Gas Station</td>\n",
       "      <td>Anti-White</td>\n",
       "      <td>Individual</td>\n",
       "      <td>S</td>\n",
       "      <td>S</td>\n",
       "    </tr>\n",
       "  </tbody>\n",
       "</table>\n",
       "<p>5 rows × 28 columns</p>\n",
       "</div>"
      ],
      "text/plain": [
       "   INCIDENT_ID  DATA_YEAR        ORI PUB_AGENCY_NAME PUB_AGENCY_UNIT  \\\n",
       "0         3015       1991  AR0040200          Rogers             NaN   \n",
       "1         3016       1991  AR0290100            Hope             NaN   \n",
       "2           43       1991  AR0350100      Pine Bluff             NaN   \n",
       "3           44       1991  AR0350100      Pine Bluff             NaN   \n",
       "4         3017       1991  AR0350100      Pine Bluff             NaN   \n",
       "\n",
       "  AGENCY_TYPE_NAME STATE_ABBR STATE_NAME       DIVISION_NAME REGION_NAME  ...  \\\n",
       "0             City         AR   Arkansas  West South Central       South  ...   \n",
       "1             City         AR   Arkansas  West South Central       South  ...   \n",
       "2             City         AR   Arkansas  West South Central       South  ...   \n",
       "3             City         AR   Arkansas  West South Central       South  ...   \n",
       "4             City         AR   Arkansas  West South Central       South  ...   \n",
       "\n",
       "               OFFENDER_RACE OFFENDER_ETHNICITY VICTIM_COUNT  \\\n",
       "0                      White                NaN            1   \n",
       "1  Black or African American                NaN            1   \n",
       "2  Black or African American                NaN            1   \n",
       "3  Black or African American                NaN            2   \n",
       "4  Black or African American                NaN            1   \n",
       "\n",
       "                                        OFFENSE_NAME  \\\n",
       "0                                       Intimidation   \n",
       "1                                     Simple Assault   \n",
       "2                                 Aggravated Assault   \n",
       "3  Aggravated Assault;Destruction/Damage/Vandalis...   \n",
       "4                                 Aggravated Assault   \n",
       "\n",
       "   TOTAL_INDIVIDUAL_VICTIMS                       LOCATION_NAME  \\\n",
       "0                       1.0  Highway/Road/Alley/Street/Sidewalk   \n",
       "1                       1.0  Highway/Road/Alley/Street/Sidewalk   \n",
       "2                       1.0                      Residence/Home   \n",
       "3                       1.0  Highway/Road/Alley/Street/Sidewalk   \n",
       "4                       1.0                 Service/Gas Station   \n",
       "\n",
       "                        BIAS_DESC  VICTIM_TYPES MULTIPLE_OFFENSE MULTIPLE_BIAS  \n",
       "0  Anti-Black or African American    Individual                S             S  \n",
       "1                      Anti-White    Individual                S             S  \n",
       "2  Anti-Black or African American    Individual                S             S  \n",
       "3                      Anti-White    Individual                M             S  \n",
       "4                      Anti-White    Individual                S             S  \n",
       "\n",
       "[5 rows x 28 columns]"
      ]
     },
     "execution_count": 3,
     "metadata": {},
     "output_type": "execute_result"
    }
   ],
   "source": [
    "hate_crime.head()"
   ]
  },
  {
   "cell_type": "code",
   "execution_count": 4,
   "metadata": {},
   "outputs": [
    {
     "name": "stdout",
     "output_type": "stream",
     "text": [
      "<class 'pandas.core.frame.DataFrame'>\n",
      "RangeIndex: 201403 entries, 0 to 201402\n",
      "Data columns (total 28 columns):\n",
      " #   Column                    Non-Null Count   Dtype  \n",
      "---  ------                    --------------   -----  \n",
      " 0   INCIDENT_ID               201403 non-null  int64  \n",
      " 1   DATA_YEAR                 201403 non-null  int64  \n",
      " 2   ORI                       201403 non-null  object \n",
      " 3   PUB_AGENCY_NAME           201403 non-null  object \n",
      " 4   PUB_AGENCY_UNIT           5594 non-null    object \n",
      " 5   AGENCY_TYPE_NAME          201403 non-null  object \n",
      " 6   STATE_ABBR                201403 non-null  object \n",
      " 7   STATE_NAME                201403 non-null  object \n",
      " 8   DIVISION_NAME             201403 non-null  object \n",
      " 9   REGION_NAME               201403 non-null  object \n",
      " 10  POPULATION_GROUP_CODE     201403 non-null  object \n",
      " 11  POPULATION_GROUP_DESC     201403 non-null  object \n",
      " 12  INCIDENT_DATE             201403 non-null  object \n",
      " 13  ADULT_VICTIM_COUNT        35973 non-null   float64\n",
      " 14  JUVENILE_VICTIM_COUNT     35496 non-null   float64\n",
      " 15  TOTAL_OFFENDER_COUNT      201403 non-null  int64  \n",
      " 16  ADULT_OFFENDER_COUNT      33952 non-null   float64\n",
      " 17  JUVENILE_OFFENDER_COUNT   33945 non-null   float64\n",
      " 18  OFFENDER_RACE             201384 non-null  object \n",
      " 19  OFFENDER_ETHNICITY        18150 non-null   object \n",
      " 20  VICTIM_COUNT              201403 non-null  int64  \n",
      " 21  OFFENSE_NAME              201403 non-null  object \n",
      " 22  TOTAL_INDIVIDUAL_VICTIMS  199797 non-null  float64\n",
      " 23  LOCATION_NAME             201403 non-null  object \n",
      " 24  BIAS_DESC                 201403 non-null  object \n",
      " 25  VICTIM_TYPES              201403 non-null  object \n",
      " 26  MULTIPLE_OFFENSE          201403 non-null  object \n",
      " 27  MULTIPLE_BIAS             201403 non-null  object \n",
      "dtypes: float64(5), int64(4), object(19)\n",
      "memory usage: 43.0+ MB\n"
     ]
    }
   ],
   "source": [
    "# More information about the data\n",
    "hate_crime.info()"
   ]
  },
  {
   "attachments": {},
   "cell_type": "markdown",
   "metadata": {},
   "source": [
    "iii. Data cleaning\n",
    "\n",
    "We can see that there is a lot of work to be done just looking at the information in our data. Let's start by looking for duplication in our data."
   ]
  },
  {
   "attachments": {},
   "cell_type": "markdown",
   "metadata": {},
   "source": [
    "Checking for duplicates"
   ]
  },
  {
   "cell_type": "code",
   "execution_count": 5,
   "metadata": {},
   "outputs": [
    {
     "data": {
      "text/plain": [
       "0"
      ]
     },
     "execution_count": 5,
     "metadata": {},
     "output_type": "execute_result"
    }
   ],
   "source": [
    "hate_crime.duplicated().sum()"
   ]
  },
  {
   "attachments": {},
   "cell_type": "markdown",
   "metadata": {},
   "source": [
    "From the above, there are no duplicates. Let's see how many null values we've got in our dataset."
   ]
  },
  {
   "cell_type": "code",
   "execution_count": 6,
   "metadata": {},
   "outputs": [
    {
     "data": {
      "text/plain": [
       "INCIDENT_ID                      0\n",
       "DATA_YEAR                        0\n",
       "ORI                              0\n",
       "PUB_AGENCY_NAME                  0\n",
       "PUB_AGENCY_UNIT             195809\n",
       "AGENCY_TYPE_NAME                 0\n",
       "STATE_ABBR                       0\n",
       "STATE_NAME                       0\n",
       "DIVISION_NAME                    0\n",
       "REGION_NAME                      0\n",
       "POPULATION_GROUP_CODE            0\n",
       "POPULATION_GROUP_DESC            0\n",
       "INCIDENT_DATE                    0\n",
       "ADULT_VICTIM_COUNT          165430\n",
       "JUVENILE_VICTIM_COUNT       165907\n",
       "TOTAL_OFFENDER_COUNT             0\n",
       "ADULT_OFFENDER_COUNT        167451\n",
       "JUVENILE_OFFENDER_COUNT     167458\n",
       "OFFENDER_RACE                   19\n",
       "OFFENDER_ETHNICITY          183253\n",
       "VICTIM_COUNT                     0\n",
       "OFFENSE_NAME                     0\n",
       "TOTAL_INDIVIDUAL_VICTIMS      1606\n",
       "LOCATION_NAME                    0\n",
       "BIAS_DESC                        0\n",
       "VICTIM_TYPES                     0\n",
       "MULTIPLE_OFFENSE                 0\n",
       "MULTIPLE_BIAS                    0\n",
       "dtype: int64"
      ]
     },
     "execution_count": 6,
     "metadata": {},
     "output_type": "execute_result"
    }
   ],
   "source": [
    "hate_crime.isnull().sum()"
   ]
  },
  {
   "attachments": {},
   "cell_type": "markdown",
   "metadata": {},
   "source": [
    "There appear to be several columns with a large number of null values. Let's make a visualization to better understand all of the null values in our dataset."
   ]
  },
  {
   "cell_type": "code",
   "execution_count": 7,
   "metadata": {},
   "outputs": [
    {
     "data": {
      "text/plain": [
       "<matplotlib.axes._subplots.AxesSubplot at 0x7f2bae5dbb20>"
      ]
     },
     "execution_count": 7,
     "metadata": {},
     "output_type": "execute_result"
    },
    {
     "data": {
      "image/png": "[encoded data removed]",
      "text/plain": [
       "<Figure size 432x288 with 1 Axes>"
      ]
     },
     "metadata": {
      "needs_background": "light"
     },
     "output_type": "display_data"
    }
   ],
   "source": [
    "sns.heatmap(hate_crime.isnull(),cbar=False)"
   ]
  },
  {
   "attachments": {},
   "cell_type": "markdown",
   "metadata": {},
   "source": [
    "That's a lot of null values! Let's start dealing with them--starting with the column with the least amount of null values; OFFENDER_RACE."
   ]
  },
  {
   "cell_type": "code",
   "execution_count": 8,
   "metadata": {},
   "outputs": [
    {
     "data": {
      "text/plain": [
       "19"
      ]
     },
     "execution_count": 8,
     "metadata": {},
     "output_type": "execute_result"
    }
   ],
   "source": [
    "hate_crime['OFFENDER_RACE'].isnull().sum()"
   ]
  },
  {
   "attachments": {},
   "cell_type": "markdown",
   "metadata": {},
   "source": [
    "Let's replace \"Unknown\" in place of all the null values in OFFENDER RACE."
   ]
  },
  {
   "cell_type": "code",
   "execution_count": 9,
   "metadata": {},
   "outputs": [],
   "source": [
    "hate_crime['OFFENDER_RACE'].fillna('Unknown',inplace=True)"
   ]
  },
  {
   "attachments": {},
   "cell_type": "markdown",
   "metadata": {},
   "source": [
    "Checking to see how many null values remain in our OFFENDER_RACE column."
   ]
  },
  {
   "cell_type": "code",
   "execution_count": 10,
   "metadata": {},
   "outputs": [
    {
     "data": {
      "text/plain": [
       "0"
      ]
     },
     "execution_count": 10,
     "metadata": {},
     "output_type": "execute_result"
    }
   ],
   "source": [
    "hate_crime['OFFENDER_RACE'].isnull().sum()"
   ]
  },
  {
   "attachments": {},
   "cell_type": "markdown",
   "metadata": {},
   "source": [
    "No more null values! Now we'll take a look at the other columns.\n",
    "\n",
    "For the purposes of this analysis, we aren't particularly interested in the columns TOTAL INDIVIDUAL VICTIMS,ADULT VICTIM COUNT, ADULT OFFENDER COUNT,JUVENILE OFFENDER COUNT, or JUVENILE VICTIM COUNT because the VICTIM COUNT and TOTAL OFFENDER COUNT columns, which have no null values, already serve those functions.\n",
    "\n",
    "Therefore, we'll just remove those columns completely rather than wasting time trying to figure out how to consistently populate all those null values."
   ]
  },
  {
   "cell_type": "code",
   "execution_count": 11,
   "metadata": {},
   "outputs": [],
   "source": [
    "columns = ['TOTAL_INDIVIDUAL_VICTIMS','ADULT_OFFENDER_COUNT','JUVENILE_OFFENDER_COUNT','ADULT_VICTIM_COUNT','JUVENILE_VICTIM_COUNT']\n",
    "hate_crime.drop(columns,axis=1,inplace=True)"
   ]
  },
  {
   "attachments": {},
   "cell_type": "markdown",
   "metadata": {},
   "source": [
    "The OFFENDER_ETHNICITY and PUB_AGENCY_UNIT columns still have null values in them. Let's check these columns out; starting with OFFENDER_ETHNICITY."
   ]
  },
  {
   "cell_type": "code",
   "execution_count": 12,
   "metadata": {},
   "outputs": [
    {
     "data": {
      "text/plain": [
       "Unknown                   13618\n",
       "Not Hispanic or Latino     3532\n",
       "Hispanic or Latino          901\n",
       "Multiple                     99\n",
       "Name: OFFENDER_ETHNICITY, dtype: int64"
      ]
     },
     "execution_count": 12,
     "metadata": {},
     "output_type": "execute_result"
    }
   ],
   "source": [
    "hate_crime['OFFENDER_ETHNICITY'].value_counts()"
   ]
  },
  {
   "attachments": {},
   "cell_type": "markdown",
   "metadata": {},
   "source": [
    "The ethnicities—NOT the races—of those who have committed hate crimes are listed in this column. We can observe from the sparse non-null values in this column that, while some people did choose to reveal their precise ethnic identities, many others just chose to keep their ethnic identities as unknown.\n",
    "\n",
    "I'm not sure if doing so would make this column relevant to my analysis, even though we could replace all of the null entries in it with the value \"Unknown\" once more.\n",
    "\n",
    "Let's examine the proportion of null values in this column."
   ]
  },
  {
   "cell_type": "code",
   "execution_count": 13,
   "metadata": {},
   "outputs": [
    {
     "data": {
      "text/plain": [
       "0.9098821765316306"
      ]
     },
     "execution_count": 13,
     "metadata": {},
     "output_type": "execute_result"
    }
   ],
   "source": [
    "hate_crime['OFFENDER_ETHNICITY'].isnull().sum()/len(hate_crime['OFFENDER_ETHNICITY'])"
   ]
  },
  {
   "attachments": {},
   "cell_type": "markdown",
   "metadata": {},
   "source": [
    "90 percent! In other words, if we choose to fill the nulls in this column with the value \"Unknown,\" over 90% of the values would be \"Unknown,\" with only around 10% being Ethnic Identities. Not exactly information that will help with our analysis.\n",
    "\n",
    "In light of this, we will also remove the OFFENDER ETHNICITY field."
   ]
  },
  {
   "cell_type": "code",
   "execution_count": 14,
   "metadata": {},
   "outputs": [],
   "source": [
    "hate_crime.drop('OFFENDER_ETHNICITY',axis=1,inplace=True)"
   ]
  },
  {
   "attachments": {},
   "cell_type": "markdown",
   "metadata": {},
   "source": [
    "Let's check out the PUB_AGENCY_UNIT column"
   ]
  },
  {
   "cell_type": "code",
   "execution_count": 15,
   "metadata": {},
   "outputs": [
    {
     "data": {
      "text/html": [
       "<div>\n",
       "<style scoped>\n",
       "    .dataframe tbody tr th:only-of-type {\n",
       "        vertical-align: middle;\n",
       "    }\n",
       "\n",
       "    .dataframe tbody tr th {\n",
       "        vertical-align: top;\n",
       "    }\n",
       "\n",
       "    .dataframe thead th {\n",
       "        text-align: right;\n",
       "    }\n",
       "</style>\n",
       "<table border=\"1\" class=\"dataframe\">\n",
       "  <thead>\n",
       "    <tr style=\"text-align: right;\">\n",
       "      <th></th>\n",
       "      <th>INCIDENT_ID</th>\n",
       "      <th>DATA_YEAR</th>\n",
       "      <th>ORI</th>\n",
       "      <th>PUB_AGENCY_NAME</th>\n",
       "      <th>PUB_AGENCY_UNIT</th>\n",
       "      <th>AGENCY_TYPE_NAME</th>\n",
       "      <th>STATE_ABBR</th>\n",
       "      <th>STATE_NAME</th>\n",
       "      <th>DIVISION_NAME</th>\n",
       "      <th>REGION_NAME</th>\n",
       "      <th>...</th>\n",
       "      <th>INCIDENT_DATE</th>\n",
       "      <th>TOTAL_OFFENDER_COUNT</th>\n",
       "      <th>OFFENDER_RACE</th>\n",
       "      <th>VICTIM_COUNT</th>\n",
       "      <th>OFFENSE_NAME</th>\n",
       "      <th>LOCATION_NAME</th>\n",
       "      <th>BIAS_DESC</th>\n",
       "      <th>VICTIM_TYPES</th>\n",
       "      <th>MULTIPLE_OFFENSE</th>\n",
       "      <th>MULTIPLE_BIAS</th>\n",
       "    </tr>\n",
       "  </thead>\n",
       "  <tbody>\n",
       "    <tr>\n",
       "      <th>119</th>\n",
       "      <td>96</td>\n",
       "      <td>1991</td>\n",
       "      <td>CO0070500</td>\n",
       "      <td>University of Colorado:</td>\n",
       "      <td>Boulder</td>\n",
       "      <td>University or College</td>\n",
       "      <td>CO</td>\n",
       "      <td>Colorado</td>\n",
       "      <td>Mountain</td>\n",
       "      <td>West</td>\n",
       "      <td>...</td>\n",
       "      <td>26-MAR-91</td>\n",
       "      <td>1</td>\n",
       "      <td>White</td>\n",
       "      <td>1</td>\n",
       "      <td>Destruction/Damage/Vandalism of Property</td>\n",
       "      <td>School/College</td>\n",
       "      <td>Anti-Jewish</td>\n",
       "      <td>Other</td>\n",
       "      <td>S</td>\n",
       "      <td>S</td>\n",
       "    </tr>\n",
       "    <tr>\n",
       "      <th>442</th>\n",
       "      <td>346</td>\n",
       "      <td>1991</td>\n",
       "      <td>IL0100700</td>\n",
       "      <td>University of Illinois:</td>\n",
       "      <td>Urbana</td>\n",
       "      <td>University or College</td>\n",
       "      <td>IL</td>\n",
       "      <td>Illinois</td>\n",
       "      <td>East North Central</td>\n",
       "      <td>Midwest</td>\n",
       "      <td>...</td>\n",
       "      <td>03-JUL-91</td>\n",
       "      <td>0</td>\n",
       "      <td>Unknown</td>\n",
       "      <td>2</td>\n",
       "      <td>Intimidation</td>\n",
       "      <td>School/College</td>\n",
       "      <td>Anti-Black or African American</td>\n",
       "      <td>Individual</td>\n",
       "      <td>S</td>\n",
       "      <td>S</td>\n",
       "    </tr>\n",
       "    <tr>\n",
       "      <th>965</th>\n",
       "      <td>3145</td>\n",
       "      <td>1991</td>\n",
       "      <td>MD0030400</td>\n",
       "      <td>University of Maryland:</td>\n",
       "      <td>Baltimore County</td>\n",
       "      <td>University or College</td>\n",
       "      <td>MD</td>\n",
       "      <td>Maryland</td>\n",
       "      <td>South Atlantic</td>\n",
       "      <td>South</td>\n",
       "      <td>...</td>\n",
       "      <td>02-FEB-91</td>\n",
       "      <td>0</td>\n",
       "      <td>Unknown</td>\n",
       "      <td>1</td>\n",
       "      <td>Destruction/Damage/Vandalism of Property</td>\n",
       "      <td>School/College</td>\n",
       "      <td>Anti-Black or African American</td>\n",
       "      <td>Government</td>\n",
       "      <td>S</td>\n",
       "      <td>S</td>\n",
       "    </tr>\n",
       "    <tr>\n",
       "      <th>1012</th>\n",
       "      <td>533</td>\n",
       "      <td>1991</td>\n",
       "      <td>MD0160300</td>\n",
       "      <td>Maryland-National Capital Park Police:</td>\n",
       "      <td>Montgomery County</td>\n",
       "      <td>Other</td>\n",
       "      <td>MD</td>\n",
       "      <td>Maryland</td>\n",
       "      <td>South Atlantic</td>\n",
       "      <td>South</td>\n",
       "      <td>...</td>\n",
       "      <td>28-JAN-91</td>\n",
       "      <td>0</td>\n",
       "      <td>Unknown</td>\n",
       "      <td>1</td>\n",
       "      <td>Destruction/Damage/Vandalism of Property</td>\n",
       "      <td>Other/Unknown</td>\n",
       "      <td>Anti-Black or African American</td>\n",
       "      <td>Government</td>\n",
       "      <td>S</td>\n",
       "      <td>S</td>\n",
       "    </tr>\n",
       "    <tr>\n",
       "      <th>1013</th>\n",
       "      <td>534</td>\n",
       "      <td>1991</td>\n",
       "      <td>MD0160300</td>\n",
       "      <td>Maryland-National Capital Park Police:</td>\n",
       "      <td>Montgomery County</td>\n",
       "      <td>Other</td>\n",
       "      <td>MD</td>\n",
       "      <td>Maryland</td>\n",
       "      <td>South Atlantic</td>\n",
       "      <td>South</td>\n",
       "      <td>...</td>\n",
       "      <td>21-AUG-91</td>\n",
       "      <td>0</td>\n",
       "      <td>Unknown</td>\n",
       "      <td>1</td>\n",
       "      <td>Destruction/Damage/Vandalism of Property</td>\n",
       "      <td>Other/Unknown</td>\n",
       "      <td>Anti-Black or African American</td>\n",
       "      <td>Other</td>\n",
       "      <td>S</td>\n",
       "      <td>S</td>\n",
       "    </tr>\n",
       "    <tr>\n",
       "      <th>...</th>\n",
       "      <td>...</td>\n",
       "      <td>...</td>\n",
       "      <td>...</td>\n",
       "      <td>...</td>\n",
       "      <td>...</td>\n",
       "      <td>...</td>\n",
       "      <td>...</td>\n",
       "      <td>...</td>\n",
       "      <td>...</td>\n",
       "      <td>...</td>\n",
       "      <td>...</td>\n",
       "      <td>...</td>\n",
       "      <td>...</td>\n",
       "      <td>...</td>\n",
       "      <td>...</td>\n",
       "      <td>...</td>\n",
       "      <td>...</td>\n",
       "      <td>...</td>\n",
       "      <td>...</td>\n",
       "      <td>...</td>\n",
       "      <td>...</td>\n",
       "    </tr>\n",
       "    <tr>\n",
       "      <th>200963</th>\n",
       "      <td>467516</td>\n",
       "      <td>2018</td>\n",
       "      <td>WAFBISE00</td>\n",
       "      <td>Federal Bureau of Investigation</td>\n",
       "      <td>Seattle</td>\n",
       "      <td>Federal</td>\n",
       "      <td>WA</td>\n",
       "      <td>Washington</td>\n",
       "      <td>Pacific</td>\n",
       "      <td>West</td>\n",
       "      <td>...</td>\n",
       "      <td>19-MAR-18</td>\n",
       "      <td>0</td>\n",
       "      <td>Unknown</td>\n",
       "      <td>1</td>\n",
       "      <td>Arson</td>\n",
       "      <td>Church/Synagogue/Temple/Mosque</td>\n",
       "      <td>Anti-Jehovah's Witness</td>\n",
       "      <td>Religious Organization</td>\n",
       "      <td>S</td>\n",
       "      <td>S</td>\n",
       "    </tr>\n",
       "    <tr>\n",
       "      <th>201267</th>\n",
       "      <td>387889</td>\n",
       "      <td>2018</td>\n",
       "      <td>WI0221400</td>\n",
       "      <td>University of Wisconsin:</td>\n",
       "      <td>Platteville</td>\n",
       "      <td>University or College</td>\n",
       "      <td>WI</td>\n",
       "      <td>Wisconsin</td>\n",
       "      <td>East North Central</td>\n",
       "      <td>Midwest</td>\n",
       "      <td>...</td>\n",
       "      <td>12-FEB-18</td>\n",
       "      <td>0</td>\n",
       "      <td>Unknown</td>\n",
       "      <td>1</td>\n",
       "      <td>Destruction/Damage/Vandalism of Property</td>\n",
       "      <td>Residence/Home</td>\n",
       "      <td>Anti-Black or African American</td>\n",
       "      <td>Government</td>\n",
       "      <td>S</td>\n",
       "      <td>S</td>\n",
       "    </tr>\n",
       "    <tr>\n",
       "      <th>201304</th>\n",
       "      <td>416621</td>\n",
       "      <td>2018</td>\n",
       "      <td>WIFBIMW00</td>\n",
       "      <td>Federal Bureau of Investigation</td>\n",
       "      <td>Milwaukee</td>\n",
       "      <td>Federal</td>\n",
       "      <td>WI</td>\n",
       "      <td>Wisconsin</td>\n",
       "      <td>East North Central</td>\n",
       "      <td>Midwest</td>\n",
       "      <td>...</td>\n",
       "      <td>18-MAY-18</td>\n",
       "      <td>1</td>\n",
       "      <td>White</td>\n",
       "      <td>1</td>\n",
       "      <td>Intimidation</td>\n",
       "      <td>Church/Synagogue/Temple/Mosque</td>\n",
       "      <td>Anti-Jewish</td>\n",
       "      <td>Individual</td>\n",
       "      <td>S</td>\n",
       "      <td>S</td>\n",
       "    </tr>\n",
       "    <tr>\n",
       "      <th>201401</th>\n",
       "      <td>463503</td>\n",
       "      <td>2018</td>\n",
       "      <td>WVWSP2400</td>\n",
       "      <td>State Police:</td>\n",
       "      <td>Madison</td>\n",
       "      <td>State Police</td>\n",
       "      <td>WV</td>\n",
       "      <td>West Virginia</td>\n",
       "      <td>South Atlantic</td>\n",
       "      <td>South</td>\n",
       "      <td>...</td>\n",
       "      <td>31-JAN-18</td>\n",
       "      <td>1</td>\n",
       "      <td>White</td>\n",
       "      <td>1</td>\n",
       "      <td>Intimidation</td>\n",
       "      <td>Residence/Home</td>\n",
       "      <td>Anti-White</td>\n",
       "      <td>Law Enforcement Officer</td>\n",
       "      <td>S</td>\n",
       "      <td>S</td>\n",
       "    </tr>\n",
       "    <tr>\n",
       "      <th>201402</th>\n",
       "      <td>544359</td>\n",
       "      <td>2018</td>\n",
       "      <td>WVWSP3300</td>\n",
       "      <td>State Police:</td>\n",
       "      <td>Parkersburg</td>\n",
       "      <td>State Police</td>\n",
       "      <td>WV</td>\n",
       "      <td>West Virginia</td>\n",
       "      <td>South Atlantic</td>\n",
       "      <td>South</td>\n",
       "      <td>...</td>\n",
       "      <td>21-JAN-18</td>\n",
       "      <td>0</td>\n",
       "      <td>Unknown</td>\n",
       "      <td>2</td>\n",
       "      <td>Burglary/Breaking &amp; Entering;Destruction/Damag...</td>\n",
       "      <td>Church/Synagogue/Temple/Mosque</td>\n",
       "      <td>Anti-Other Religion</td>\n",
       "      <td>Religious Organization</td>\n",
       "      <td>M</td>\n",
       "      <td>S</td>\n",
       "    </tr>\n",
       "  </tbody>\n",
       "</table>\n",
       "<p>5594 rows × 22 columns</p>\n",
       "</div>"
      ],
      "text/plain": [
       "        INCIDENT_ID  DATA_YEAR        ORI  \\\n",
       "119              96       1991  CO0070500   \n",
       "442             346       1991  IL0100700   \n",
       "965            3145       1991  MD0030400   \n",
       "1012            533       1991  MD0160300   \n",
       "1013            534       1991  MD0160300   \n",
       "...             ...        ...        ...   \n",
       "200963       467516       2018  WAFBISE00   \n",
       "201267       387889       2018  WI0221400   \n",
       "201304       416621       2018  WIFBIMW00   \n",
       "201401       463503       2018  WVWSP2400   \n",
       "201402       544359       2018  WVWSP3300   \n",
       "\n",
       "                               PUB_AGENCY_NAME    PUB_AGENCY_UNIT  \\\n",
       "119                    University of Colorado:            Boulder   \n",
       "442                    University of Illinois:             Urbana   \n",
       "965                    University of Maryland:   Baltimore County   \n",
       "1012    Maryland-National Capital Park Police:  Montgomery County   \n",
       "1013    Maryland-National Capital Park Police:  Montgomery County   \n",
       "...                                        ...                ...   \n",
       "200963         Federal Bureau of Investigation            Seattle   \n",
       "201267                University of Wisconsin:        Platteville   \n",
       "201304         Federal Bureau of Investigation          Milwaukee   \n",
       "201401                           State Police:            Madison   \n",
       "201402                           State Police:        Parkersburg   \n",
       "\n",
       "             AGENCY_TYPE_NAME STATE_ABBR     STATE_NAME       DIVISION_NAME  \\\n",
       "119     University or College         CO       Colorado            Mountain   \n",
       "442     University or College         IL       Illinois  East North Central   \n",
       "965     University or College         MD       Maryland      South Atlantic   \n",
       "1012                    Other         MD       Maryland      South Atlantic   \n",
       "1013                    Other         MD       Maryland      South Atlantic   \n",
       "...                       ...        ...            ...                 ...   \n",
       "200963                Federal         WA     Washington             Pacific   \n",
       "201267  University or College         WI      Wisconsin  East North Central   \n",
       "201304                Federal         WI      Wisconsin  East North Central   \n",
       "201401           State Police         WV  West Virginia      South Atlantic   \n",
       "201402           State Police         WV  West Virginia      South Atlantic   \n",
       "\n",
       "       REGION_NAME  ... INCIDENT_DATE TOTAL_OFFENDER_COUNT OFFENDER_RACE  \\\n",
       "119           West  ...     26-MAR-91                    1         White   \n",
       "442        Midwest  ...     03-JUL-91                    0       Unknown   \n",
       "965          South  ...     02-FEB-91                    0       Unknown   \n",
       "1012         South  ...     28-JAN-91                    0       Unknown   \n",
       "1013         South  ...     21-AUG-91                    0       Unknown   \n",
       "...            ...  ...           ...                  ...           ...   \n",
       "200963        West  ...     19-MAR-18                    0       Unknown   \n",
       "201267     Midwest  ...     12-FEB-18                    0       Unknown   \n",
       "201304     Midwest  ...     18-MAY-18                    1         White   \n",
       "201401       South  ...     31-JAN-18                    1         White   \n",
       "201402       South  ...     21-JAN-18                    0       Unknown   \n",
       "\n",
       "        VICTIM_COUNT                                       OFFENSE_NAME  \\\n",
       "119                1           Destruction/Damage/Vandalism of Property   \n",
       "442                2                                       Intimidation   \n",
       "965                1           Destruction/Damage/Vandalism of Property   \n",
       "1012               1           Destruction/Damage/Vandalism of Property   \n",
       "1013               1           Destruction/Damage/Vandalism of Property   \n",
       "...              ...                                                ...   \n",
       "200963             1                                              Arson   \n",
       "201267             1           Destruction/Damage/Vandalism of Property   \n",
       "201304             1                                       Intimidation   \n",
       "201401             1                                       Intimidation   \n",
       "201402             2  Burglary/Breaking & Entering;Destruction/Damag...   \n",
       "\n",
       "                         LOCATION_NAME                       BIAS_DESC  \\\n",
       "119                     School/College                     Anti-Jewish   \n",
       "442                     School/College  Anti-Black or African American   \n",
       "965                     School/College  Anti-Black or African American   \n",
       "1012                     Other/Unknown  Anti-Black or African American   \n",
       "1013                     Other/Unknown  Anti-Black or African American   \n",
       "...                                ...                             ...   \n",
       "200963  Church/Synagogue/Temple/Mosque          Anti-Jehovah's Witness   \n",
       "201267                  Residence/Home  Anti-Black or African American   \n",
       "201304  Church/Synagogue/Temple/Mosque                     Anti-Jewish   \n",
       "201401                  Residence/Home                      Anti-White   \n",
       "201402  Church/Synagogue/Temple/Mosque             Anti-Other Religion   \n",
       "\n",
       "                   VICTIM_TYPES MULTIPLE_OFFENSE MULTIPLE_BIAS  \n",
       "119                       Other                S             S  \n",
       "442                  Individual                S             S  \n",
       "965                  Government                S             S  \n",
       "1012                 Government                S             S  \n",
       "1013                      Other                S             S  \n",
       "...                         ...              ...           ...  \n",
       "200963   Religious Organization                S             S  \n",
       "201267               Government                S             S  \n",
       "201304               Individual                S             S  \n",
       "201401  Law Enforcement Officer                S             S  \n",
       "201402   Religious Organization                M             S  \n",
       "\n",
       "[5594 rows x 22 columns]"
      ]
     },
     "execution_count": 15,
     "metadata": {},
     "output_type": "execute_result"
    }
   ],
   "source": [
    "hate_crime[hate_crime['PUB_AGENCY_UNIT'].isnull()==False]"
   ]
  },
  {
   "attachments": {},
   "cell_type": "markdown",
   "metadata": {},
   "source": [
    "This column will also be removed because it contains too many null values to be useful for our study and the data it does contain isn't strictly pertinent."
   ]
  },
  {
   "cell_type": "code",
   "execution_count": 16,
   "metadata": {},
   "outputs": [],
   "source": [
    "hate_crime.drop('PUB_AGENCY_UNIT',axis=1,inplace=True)"
   ]
  },
  {
   "attachments": {},
   "cell_type": "markdown",
   "metadata": {},
   "source": [
    "Confirming the dataframe's head and our null values visualization once more."
   ]
  },
  {
   "cell_type": "code",
   "execution_count": 17,
   "metadata": {},
   "outputs": [
    {
     "data": {
      "text/html": [
       "<div>\n",
       "<style scoped>\n",
       "    .dataframe tbody tr th:only-of-type {\n",
       "        vertical-align: middle;\n",
       "    }\n",
       "\n",
       "    .dataframe tbody tr th {\n",
       "        vertical-align: top;\n",
       "    }\n",
       "\n",
       "    .dataframe thead th {\n",
       "        text-align: right;\n",
       "    }\n",
       "</style>\n",
       "<table border=\"1\" class=\"dataframe\">\n",
       "  <thead>\n",
       "    <tr style=\"text-align: right;\">\n",
       "      <th></th>\n",
       "      <th>INCIDENT_ID</th>\n",
       "      <th>DATA_YEAR</th>\n",
       "      <th>ORI</th>\n",
       "      <th>PUB_AGENCY_NAME</th>\n",
       "      <th>AGENCY_TYPE_NAME</th>\n",
       "      <th>STATE_ABBR</th>\n",
       "      <th>STATE_NAME</th>\n",
       "      <th>DIVISION_NAME</th>\n",
       "      <th>REGION_NAME</th>\n",
       "      <th>POPULATION_GROUP_CODE</th>\n",
       "      <th>...</th>\n",
       "      <th>INCIDENT_DATE</th>\n",
       "      <th>TOTAL_OFFENDER_COUNT</th>\n",
       "      <th>OFFENDER_RACE</th>\n",
       "      <th>VICTIM_COUNT</th>\n",
       "      <th>OFFENSE_NAME</th>\n",
       "      <th>LOCATION_NAME</th>\n",
       "      <th>BIAS_DESC</th>\n",
       "      <th>VICTIM_TYPES</th>\n",
       "      <th>MULTIPLE_OFFENSE</th>\n",
       "      <th>MULTIPLE_BIAS</th>\n",
       "    </tr>\n",
       "  </thead>\n",
       "  <tbody>\n",
       "    <tr>\n",
       "      <th>0</th>\n",
       "      <td>3015</td>\n",
       "      <td>1991</td>\n",
       "      <td>AR0040200</td>\n",
       "      <td>Rogers</td>\n",
       "      <td>City</td>\n",
       "      <td>AR</td>\n",
       "      <td>Arkansas</td>\n",
       "      <td>West South Central</td>\n",
       "      <td>South</td>\n",
       "      <td>5</td>\n",
       "      <td>...</td>\n",
       "      <td>31-AUG-91</td>\n",
       "      <td>1</td>\n",
       "      <td>White</td>\n",
       "      <td>1</td>\n",
       "      <td>Intimidation</td>\n",
       "      <td>Highway/Road/Alley/Street/Sidewalk</td>\n",
       "      <td>Anti-Black or African American</td>\n",
       "      <td>Individual</td>\n",
       "      <td>S</td>\n",
       "      <td>S</td>\n",
       "    </tr>\n",
       "    <tr>\n",
       "      <th>1</th>\n",
       "      <td>3016</td>\n",
       "      <td>1991</td>\n",
       "      <td>AR0290100</td>\n",
       "      <td>Hope</td>\n",
       "      <td>City</td>\n",
       "      <td>AR</td>\n",
       "      <td>Arkansas</td>\n",
       "      <td>West South Central</td>\n",
       "      <td>South</td>\n",
       "      <td>6</td>\n",
       "      <td>...</td>\n",
       "      <td>19-SEP-91</td>\n",
       "      <td>1</td>\n",
       "      <td>Black or African American</td>\n",
       "      <td>1</td>\n",
       "      <td>Simple Assault</td>\n",
       "      <td>Highway/Road/Alley/Street/Sidewalk</td>\n",
       "      <td>Anti-White</td>\n",
       "      <td>Individual</td>\n",
       "      <td>S</td>\n",
       "      <td>S</td>\n",
       "    </tr>\n",
       "    <tr>\n",
       "      <th>2</th>\n",
       "      <td>43</td>\n",
       "      <td>1991</td>\n",
       "      <td>AR0350100</td>\n",
       "      <td>Pine Bluff</td>\n",
       "      <td>City</td>\n",
       "      <td>AR</td>\n",
       "      <td>Arkansas</td>\n",
       "      <td>West South Central</td>\n",
       "      <td>South</td>\n",
       "      <td>3</td>\n",
       "      <td>...</td>\n",
       "      <td>04-JUL-91</td>\n",
       "      <td>1</td>\n",
       "      <td>Black or African American</td>\n",
       "      <td>1</td>\n",
       "      <td>Aggravated Assault</td>\n",
       "      <td>Residence/Home</td>\n",
       "      <td>Anti-Black or African American</td>\n",
       "      <td>Individual</td>\n",
       "      <td>S</td>\n",
       "      <td>S</td>\n",
       "    </tr>\n",
       "    <tr>\n",
       "      <th>3</th>\n",
       "      <td>44</td>\n",
       "      <td>1991</td>\n",
       "      <td>AR0350100</td>\n",
       "      <td>Pine Bluff</td>\n",
       "      <td>City</td>\n",
       "      <td>AR</td>\n",
       "      <td>Arkansas</td>\n",
       "      <td>West South Central</td>\n",
       "      <td>South</td>\n",
       "      <td>3</td>\n",
       "      <td>...</td>\n",
       "      <td>24-DEC-91</td>\n",
       "      <td>1</td>\n",
       "      <td>Black or African American</td>\n",
       "      <td>2</td>\n",
       "      <td>Aggravated Assault;Destruction/Damage/Vandalis...</td>\n",
       "      <td>Highway/Road/Alley/Street/Sidewalk</td>\n",
       "      <td>Anti-White</td>\n",
       "      <td>Individual</td>\n",
       "      <td>M</td>\n",
       "      <td>S</td>\n",
       "    </tr>\n",
       "    <tr>\n",
       "      <th>4</th>\n",
       "      <td>3017</td>\n",
       "      <td>1991</td>\n",
       "      <td>AR0350100</td>\n",
       "      <td>Pine Bluff</td>\n",
       "      <td>City</td>\n",
       "      <td>AR</td>\n",
       "      <td>Arkansas</td>\n",
       "      <td>West South Central</td>\n",
       "      <td>South</td>\n",
       "      <td>3</td>\n",
       "      <td>...</td>\n",
       "      <td>23-DEC-91</td>\n",
       "      <td>1</td>\n",
       "      <td>Black or African American</td>\n",
       "      <td>1</td>\n",
       "      <td>Aggravated Assault</td>\n",
       "      <td>Service/Gas Station</td>\n",
       "      <td>Anti-White</td>\n",
       "      <td>Individual</td>\n",
       "      <td>S</td>\n",
       "      <td>S</td>\n",
       "    </tr>\n",
       "  </tbody>\n",
       "</table>\n",
       "<p>5 rows × 21 columns</p>\n",
       "</div>"
      ],
      "text/plain": [
       "   INCIDENT_ID  DATA_YEAR        ORI PUB_AGENCY_NAME AGENCY_TYPE_NAME  \\\n",
       "0         3015       1991  AR0040200          Rogers             City   \n",
       "1         3016       1991  AR0290100            Hope             City   \n",
       "2           43       1991  AR0350100      Pine Bluff             City   \n",
       "3           44       1991  AR0350100      Pine Bluff             City   \n",
       "4         3017       1991  AR0350100      Pine Bluff             City   \n",
       "\n",
       "  STATE_ABBR STATE_NAME       DIVISION_NAME REGION_NAME POPULATION_GROUP_CODE  \\\n",
       "0         AR   Arkansas  West South Central       South                     5   \n",
       "1         AR   Arkansas  West South Central       South                     6   \n",
       "2         AR   Arkansas  West South Central       South                     3   \n",
       "3         AR   Arkansas  West South Central       South                     3   \n",
       "4         AR   Arkansas  West South Central       South                     3   \n",
       "\n",
       "   ... INCIDENT_DATE TOTAL_OFFENDER_COUNT              OFFENDER_RACE  \\\n",
       "0  ...     31-AUG-91                    1                      White   \n",
       "1  ...     19-SEP-91                    1  Black or African American   \n",
       "2  ...     04-JUL-91                    1  Black or African American   \n",
       "3  ...     24-DEC-91                    1  Black or African American   \n",
       "4  ...     23-DEC-91                    1  Black or African American   \n",
       "\n",
       "  VICTIM_COUNT                                       OFFENSE_NAME  \\\n",
       "0            1                                       Intimidation   \n",
       "1            1                                     Simple Assault   \n",
       "2            1                                 Aggravated Assault   \n",
       "3            2  Aggravated Assault;Destruction/Damage/Vandalis...   \n",
       "4            1                                 Aggravated Assault   \n",
       "\n",
       "                        LOCATION_NAME                       BIAS_DESC  \\\n",
       "0  Highway/Road/Alley/Street/Sidewalk  Anti-Black or African American   \n",
       "1  Highway/Road/Alley/Street/Sidewalk                      Anti-White   \n",
       "2                      Residence/Home  Anti-Black or African American   \n",
       "3  Highway/Road/Alley/Street/Sidewalk                      Anti-White   \n",
       "4                 Service/Gas Station                      Anti-White   \n",
       "\n",
       "  VICTIM_TYPES MULTIPLE_OFFENSE MULTIPLE_BIAS  \n",
       "0   Individual                S             S  \n",
       "1   Individual                S             S  \n",
       "2   Individual                S             S  \n",
       "3   Individual                M             S  \n",
       "4   Individual                S             S  \n",
       "\n",
       "[5 rows x 21 columns]"
      ]
     },
     "execution_count": 17,
     "metadata": {},
     "output_type": "execute_result"
    }
   ],
   "source": [
    "hate_crime.head()"
   ]
  },
  {
   "cell_type": "code",
   "execution_count": 18,
   "metadata": {},
   "outputs": [
    {
     "data": {
      "text/plain": [
       "<matplotlib.axes._subplots.AxesSubplot at 0x7f2bae5aad00>"
      ]
     },
     "execution_count": 18,
     "metadata": {},
     "output_type": "execute_result"
    },
    {
     "data": {
      "image/png": "[encoded data removed]",
      "text/plain": [
       "<Figure size 432x288 with 1 Axes>"
      ]
     },
     "metadata": {
      "needs_background": "light"
     },
     "output_type": "display_data"
    }
   ],
   "source": [
    "sns.heatmap(hate_crime.isnull(),cbar=False)"
   ]
  },
  {
   "attachments": {},
   "cell_type": "markdown",
   "metadata": {},
   "source": [
    "All of our null data appears to have been resolved. To be certain, let's check the precise figures once more."
   ]
  },
  {
   "cell_type": "code",
   "execution_count": 19,
   "metadata": {},
   "outputs": [
    {
     "data": {
      "text/plain": [
       "INCIDENT_ID              0\n",
       "DATA_YEAR                0\n",
       "ORI                      0\n",
       "PUB_AGENCY_NAME          0\n",
       "AGENCY_TYPE_NAME         0\n",
       "STATE_ABBR               0\n",
       "STATE_NAME               0\n",
       "DIVISION_NAME            0\n",
       "REGION_NAME              0\n",
       "POPULATION_GROUP_CODE    0\n",
       "POPULATION_GROUP_DESC    0\n",
       "INCIDENT_DATE            0\n",
       "TOTAL_OFFENDER_COUNT     0\n",
       "OFFENDER_RACE            0\n",
       "VICTIM_COUNT             0\n",
       "OFFENSE_NAME             0\n",
       "LOCATION_NAME            0\n",
       "BIAS_DESC                0\n",
       "VICTIM_TYPES             0\n",
       "MULTIPLE_OFFENSE         0\n",
       "MULTIPLE_BIAS            0\n",
       "dtype: int64"
      ]
     },
     "execution_count": 19,
     "metadata": {},
     "output_type": "execute_result"
    }
   ],
   "source": [
    "hate_crime.isnull().sum()"
   ]
  },
  {
   "attachments": {},
   "cell_type": "markdown",
   "metadata": {},
   "source": [
    "No more null values exist!\n",
    "\n",
    "But cleaning is just the beginning; before we begin analysis, we still need to make a few more adjustments to our dataset."
   ]
  },
  {
   "attachments": {},
   "cell_type": "markdown",
   "metadata": {},
   "source": [
    "iv. Correcting Datatypes\n",
    "\n",
    "Let's check our dataset info again"
   ]
  },
  {
   "cell_type": "code",
   "execution_count": 20,
   "metadata": {},
   "outputs": [
    {
     "name": "stdout",
     "output_type": "stream",
     "text": [
      "<class 'pandas.core.frame.DataFrame'>\n",
      "RangeIndex: 201403 entries, 0 to 201402\n",
      "Data columns (total 21 columns):\n",
      " #   Column                 Non-Null Count   Dtype \n",
      "---  ------                 --------------   ----- \n",
      " 0   INCIDENT_ID            201403 non-null  int64 \n",
      " 1   DATA_YEAR              201403 non-null  int64 \n",
      " 2   ORI                    201403 non-null  object\n",
      " 3   PUB_AGENCY_NAME        201403 non-null  object\n",
      " 4   AGENCY_TYPE_NAME       201403 non-null  object\n",
      " 5   STATE_ABBR             201403 non-null  object\n",
      " 6   STATE_NAME             201403 non-null  object\n",
      " 7   DIVISION_NAME          201403 non-null  object\n",
      " 8   REGION_NAME            201403 non-null  object\n",
      " 9   POPULATION_GROUP_CODE  201403 non-null  object\n",
      " 10  POPULATION_GROUP_DESC  201403 non-null  object\n",
      " 11  INCIDENT_DATE          201403 non-null  object\n",
      " 12  TOTAL_OFFENDER_COUNT   201403 non-null  int64 \n",
      " 13  OFFENDER_RACE          201403 non-null  object\n",
      " 14  VICTIM_COUNT           201403 non-null  int64 \n",
      " 15  OFFENSE_NAME           201403 non-null  object\n",
      " 16  LOCATION_NAME          201403 non-null  object\n",
      " 17  BIAS_DESC              201403 non-null  object\n",
      " 18  VICTIM_TYPES           201403 non-null  object\n",
      " 19  MULTIPLE_OFFENSE       201403 non-null  object\n",
      " 20  MULTIPLE_BIAS          201403 non-null  object\n",
      "dtypes: int64(4), object(17)\n",
      "memory usage: 32.3+ MB\n"
     ]
    }
   ],
   "source": [
    "hate_crime.info()"
   ]
  },
  {
   "attachments": {},
   "cell_type": "markdown",
   "metadata": {},
   "source": [
    "The datatype for the INCIDENT DATE column is set to \"Object.\" But a datetime object is what we want. Fix this, then."
   ]
  },
  {
   "cell_type": "code",
   "execution_count": null,
   "metadata": {},
   "outputs": [],
   "source": [
    "hate_crime['INCIDENT_DATE'] = pd.to_datetime(hate_crime['INCIDENT_DATE'])"
   ]
  },
  {
   "attachments": {},
   "cell_type": "markdown",
   "metadata": {},
   "source": [
    "The INCIDENT_DATE column is now set to its proper datatype."
   ]
  },
  {
   "cell_type": "code",
   "execution_count": 22,
   "metadata": {},
   "outputs": [
    {
     "name": "stdout",
     "output_type": "stream",
     "text": [
      "<class 'pandas.core.frame.DataFrame'>\n",
      "RangeIndex: 201403 entries, 0 to 201402\n",
      "Data columns (total 21 columns):\n",
      " #   Column                 Non-Null Count   Dtype         \n",
      "---  ------                 --------------   -----         \n",
      " 0   INCIDENT_ID            201403 non-null  int64         \n",
      " 1   DATA_YEAR              201403 non-null  int64         \n",
      " 2   ORI                    201403 non-null  object        \n",
      " 3   PUB_AGENCY_NAME        201403 non-null  object        \n",
      " 4   AGENCY_TYPE_NAME       201403 non-null  object        \n",
      " 5   STATE_ABBR             201403 non-null  object        \n",
      " 6   STATE_NAME             201403 non-null  object        \n",
      " 7   DIVISION_NAME          201403 non-null  object        \n",
      " 8   REGION_NAME            201403 non-null  object        \n",
      " 9   POPULATION_GROUP_CODE  201403 non-null  object        \n",
      " 10  POPULATION_GROUP_DESC  201403 non-null  object        \n",
      " 11  INCIDENT_DATE          201403 non-null  datetime64[ns]\n",
      " 12  TOTAL_OFFENDER_COUNT   201403 non-null  int64         \n",
      " 13  OFFENDER_RACE          201403 non-null  object        \n",
      " 14  VICTIM_COUNT           201403 non-null  int64         \n",
      " 15  OFFENSE_NAME           201403 non-null  object        \n",
      " 16  LOCATION_NAME          201403 non-null  object        \n",
      " 17  BIAS_DESC              201403 non-null  object        \n",
      " 18  VICTIM_TYPES           201403 non-null  object        \n",
      " 19  MULTIPLE_OFFENSE       201403 non-null  object        \n",
      " 20  MULTIPLE_BIAS          201403 non-null  object        \n",
      "dtypes: datetime64[ns](1), int64(4), object(16)\n",
      "memory usage: 32.3+ MB\n"
     ]
    }
   ],
   "source": [
    "hate_crime.info()"
   ]
  },
  {
   "attachments": {},
   "cell_type": "markdown",
   "metadata": {},
   "source": [
    "v. Renaming Column Headers\n",
    "\n",
    "To make some of the column heads more conducive to my study, I wish to rename and reformat them. The following will be reformatted:\n",
    "\n",
    ">Changing all column headers to lowercase\n",
    ">Renaming the 'BIAS_DESC' column to 'prejudice' to make the contents of the column more clear\n",
    ">In addition, I will remove a few additional columns from our dataset that I have determined won't be pertinent to my study. The following columns:\n",
    "\n",
    "    > DIVISION_NAME\n",
    "    > MULTIPLE_OFFENSE\n",
    "    > MULTIPLE_BIAS\n",
    "    > ORI\n",
    "These particular columns have been targeted for elimination because the information they provide is either too ambiguous for me to utilize, is rendered meaningless by another column, or will simply not assist me answer the problems I wish to address through my analysis.\n",
    "\n",
    "We'll start by dropping our chosen columns."
   ]
  },
  {
   "cell_type": "code",
   "execution_count": 23,
   "metadata": {},
   "outputs": [],
   "source": [
    "cols = ['DIVISION_NAME','MULTIPLE_OFFENSE','MULTIPLE_BIAS','ORI']"
   ]
  },
  {
   "cell_type": "code",
   "execution_count": 24,
   "metadata": {},
   "outputs": [],
   "source": [
    "hate_crime.drop(cols,axis=1,inplace=True)"
   ]
  },
  {
   "cell_type": "code",
   "execution_count": 25,
   "metadata": {},
   "outputs": [
    {
     "data": {
      "text/html": [
       "<div>\n",
       "<style scoped>\n",
       "    .dataframe tbody tr th:only-of-type {\n",
       "        vertical-align: middle;\n",
       "    }\n",
       "\n",
       "    .dataframe tbody tr th {\n",
       "        vertical-align: top;\n",
       "    }\n",
       "\n",
       "    .dataframe thead th {\n",
       "        text-align: right;\n",
       "    }\n",
       "</style>\n",
       "<table border=\"1\" class=\"dataframe\">\n",
       "  <thead>\n",
       "    <tr style=\"text-align: right;\">\n",
       "      <th></th>\n",
       "      <th>INCIDENT_ID</th>\n",
       "      <th>DATA_YEAR</th>\n",
       "      <th>PUB_AGENCY_NAME</th>\n",
       "      <th>AGENCY_TYPE_NAME</th>\n",
       "      <th>STATE_ABBR</th>\n",
       "      <th>STATE_NAME</th>\n",
       "      <th>REGION_NAME</th>\n",
       "      <th>POPULATION_GROUP_CODE</th>\n",
       "      <th>POPULATION_GROUP_DESC</th>\n",
       "      <th>INCIDENT_DATE</th>\n",
       "      <th>TOTAL_OFFENDER_COUNT</th>\n",
       "      <th>OFFENDER_RACE</th>\n",
       "      <th>VICTIM_COUNT</th>\n",
       "      <th>OFFENSE_NAME</th>\n",
       "      <th>LOCATION_NAME</th>\n",
       "      <th>BIAS_DESC</th>\n",
       "      <th>VICTIM_TYPES</th>\n",
       "    </tr>\n",
       "  </thead>\n",
       "  <tbody>\n",
       "    <tr>\n",
       "      <th>0</th>\n",
       "      <td>3015</td>\n",
       "      <td>1991</td>\n",
       "      <td>Rogers</td>\n",
       "      <td>City</td>\n",
       "      <td>AR</td>\n",
       "      <td>Arkansas</td>\n",
       "      <td>South</td>\n",
       "      <td>5</td>\n",
       "      <td>Cities from 10,000 thru 24,999</td>\n",
       "      <td>1991-08-31</td>\n",
       "      <td>1</td>\n",
       "      <td>White</td>\n",
       "      <td>1</td>\n",
       "      <td>Intimidation</td>\n",
       "      <td>Highway/Road/Alley/Street/Sidewalk</td>\n",
       "      <td>Anti-Black or African American</td>\n",
       "      <td>Individual</td>\n",
       "    </tr>\n",
       "    <tr>\n",
       "      <th>1</th>\n",
       "      <td>3016</td>\n",
       "      <td>1991</td>\n",
       "      <td>Hope</td>\n",
       "      <td>City</td>\n",
       "      <td>AR</td>\n",
       "      <td>Arkansas</td>\n",
       "      <td>South</td>\n",
       "      <td>6</td>\n",
       "      <td>Cities from 2,500 thru 9,999</td>\n",
       "      <td>1991-09-19</td>\n",
       "      <td>1</td>\n",
       "      <td>Black or African American</td>\n",
       "      <td>1</td>\n",
       "      <td>Simple Assault</td>\n",
       "      <td>Highway/Road/Alley/Street/Sidewalk</td>\n",
       "      <td>Anti-White</td>\n",
       "      <td>Individual</td>\n",
       "    </tr>\n",
       "    <tr>\n",
       "      <th>2</th>\n",
       "      <td>43</td>\n",
       "      <td>1991</td>\n",
       "      <td>Pine Bluff</td>\n",
       "      <td>City</td>\n",
       "      <td>AR</td>\n",
       "      <td>Arkansas</td>\n",
       "      <td>South</td>\n",
       "      <td>3</td>\n",
       "      <td>Cities from 50,000 thru 99,999</td>\n",
       "      <td>1991-07-04</td>\n",
       "      <td>1</td>\n",
       "      <td>Black or African American</td>\n",
       "      <td>1</td>\n",
       "      <td>Aggravated Assault</td>\n",
       "      <td>Residence/Home</td>\n",
       "      <td>Anti-Black or African American</td>\n",
       "      <td>Individual</td>\n",
       "    </tr>\n",
       "    <tr>\n",
       "      <th>3</th>\n",
       "      <td>44</td>\n",
       "      <td>1991</td>\n",
       "      <td>Pine Bluff</td>\n",
       "      <td>City</td>\n",
       "      <td>AR</td>\n",
       "      <td>Arkansas</td>\n",
       "      <td>South</td>\n",
       "      <td>3</td>\n",
       "      <td>Cities from 50,000 thru 99,999</td>\n",
       "      <td>1991-12-24</td>\n",
       "      <td>1</td>\n",
       "      <td>Black or African American</td>\n",
       "      <td>2</td>\n",
       "      <td>Aggravated Assault;Destruction/Damage/Vandalis...</td>\n",
       "      <td>Highway/Road/Alley/Street/Sidewalk</td>\n",
       "      <td>Anti-White</td>\n",
       "      <td>Individual</td>\n",
       "    </tr>\n",
       "    <tr>\n",
       "      <th>4</th>\n",
       "      <td>3017</td>\n",
       "      <td>1991</td>\n",
       "      <td>Pine Bluff</td>\n",
       "      <td>City</td>\n",
       "      <td>AR</td>\n",
       "      <td>Arkansas</td>\n",
       "      <td>South</td>\n",
       "      <td>3</td>\n",
       "      <td>Cities from 50,000 thru 99,999</td>\n",
       "      <td>1991-12-23</td>\n",
       "      <td>1</td>\n",
       "      <td>Black or African American</td>\n",
       "      <td>1</td>\n",
       "      <td>Aggravated Assault</td>\n",
       "      <td>Service/Gas Station</td>\n",
       "      <td>Anti-White</td>\n",
       "      <td>Individual</td>\n",
       "    </tr>\n",
       "  </tbody>\n",
       "</table>\n",
       "</div>"
      ],
      "text/plain": [
       "   INCIDENT_ID  DATA_YEAR PUB_AGENCY_NAME AGENCY_TYPE_NAME STATE_ABBR  \\\n",
       "0         3015       1991          Rogers             City         AR   \n",
       "1         3016       1991            Hope             City         AR   \n",
       "2           43       1991      Pine Bluff             City         AR   \n",
       "3           44       1991      Pine Bluff             City         AR   \n",
       "4         3017       1991      Pine Bluff             City         AR   \n",
       "\n",
       "  STATE_NAME REGION_NAME POPULATION_GROUP_CODE  \\\n",
       "0   Arkansas       South                     5   \n",
       "1   Arkansas       South                     6   \n",
       "2   Arkansas       South                     3   \n",
       "3   Arkansas       South                     3   \n",
       "4   Arkansas       South                     3   \n",
       "\n",
       "            POPULATION_GROUP_DESC INCIDENT_DATE  TOTAL_OFFENDER_COUNT  \\\n",
       "0  Cities from 10,000 thru 24,999    1991-08-31                     1   \n",
       "1    Cities from 2,500 thru 9,999    1991-09-19                     1   \n",
       "2  Cities from 50,000 thru 99,999    1991-07-04                     1   \n",
       "3  Cities from 50,000 thru 99,999    1991-12-24                     1   \n",
       "4  Cities from 50,000 thru 99,999    1991-12-23                     1   \n",
       "\n",
       "               OFFENDER_RACE  VICTIM_COUNT  \\\n",
       "0                      White             1   \n",
       "1  Black or African American             1   \n",
       "2  Black or African American             1   \n",
       "3  Black or African American             2   \n",
       "4  Black or African American             1   \n",
       "\n",
       "                                        OFFENSE_NAME  \\\n",
       "0                                       Intimidation   \n",
       "1                                     Simple Assault   \n",
       "2                                 Aggravated Assault   \n",
       "3  Aggravated Assault;Destruction/Damage/Vandalis...   \n",
       "4                                 Aggravated Assault   \n",
       "\n",
       "                        LOCATION_NAME                       BIAS_DESC  \\\n",
       "0  Highway/Road/Alley/Street/Sidewalk  Anti-Black or African American   \n",
       "1  Highway/Road/Alley/Street/Sidewalk                      Anti-White   \n",
       "2                      Residence/Home  Anti-Black or African American   \n",
       "3  Highway/Road/Alley/Street/Sidewalk                      Anti-White   \n",
       "4                 Service/Gas Station                      Anti-White   \n",
       "\n",
       "  VICTIM_TYPES  \n",
       "0   Individual  \n",
       "1   Individual  \n",
       "2   Individual  \n",
       "3   Individual  \n",
       "4   Individual  "
      ]
     },
     "execution_count": 25,
     "metadata": {},
     "output_type": "execute_result"
    }
   ],
   "source": [
    "hate_crime.head()"
   ]
  },
  {
   "attachments": {},
   "cell_type": "markdown",
   "metadata": {},
   "source": [
    "Now that our chosen columns have been dropped, let's rename the ones we've kept!"
   ]
  },
  {
   "cell_type": "code",
   "execution_count": 26,
   "metadata": {},
   "outputs": [],
   "source": [
    "new_col_names = {'INCIDENT_ID':'incident_id',\n",
    "             'DATA_YEAR':'incident_year',\n",
    "             'PUB_AGENCY_NAME':'pub_agency_name',\n",
    "             'AGENCY_TYPE_NAME':'agency_type_name',\n",
    "             'STATE_ABBR':'state_abbr',\n",
    "             'STATE_NAME':'state_name',\n",
    "             'REGION_NAME':'region_name',\n",
    "             'POPULATION_GROUP_CODE':'population_group_code',\n",
    "             'POPULATION_GROUP_DESC':'population_group_description',\n",
    "             'INCIDENT_DATE':'incident_date',\n",
    "             'TOTAL_OFFENDER_COUNT':'offender_count',\n",
    "             'OFFENDER_RACE':'offender_race',\n",
    "             'VICTIM_COUNT':'victim_count',\n",
    "             'OFFENSE_NAME':'offense_type',\n",
    "             'LOCATION_NAME':'location_type',\n",
    "             'BIAS_DESC':'prejudice',\n",
    "             'VICTIM_TYPES':'victim_types'}\n",
    "hate_crime.rename(columns=new_col_names,inplace=True)"
   ]
  },
  {
   "cell_type": "code",
   "execution_count": 27,
   "metadata": {},
   "outputs": [
    {
     "data": {
      "text/html": [
       "<div>\n",
       "<style scoped>\n",
       "    .dataframe tbody tr th:only-of-type {\n",
       "        vertical-align: middle;\n",
       "    }\n",
       "\n",
       "    .dataframe tbody tr th {\n",
       "        vertical-align: top;\n",
       "    }\n",
       "\n",
       "    .dataframe thead th {\n",
       "        text-align: right;\n",
       "    }\n",
       "</style>\n",
       "<table border=\"1\" class=\"dataframe\">\n",
       "  <thead>\n",
       "    <tr style=\"text-align: right;\">\n",
       "      <th></th>\n",
       "      <th>incident_id</th>\n",
       "      <th>incident_year</th>\n",
       "      <th>pub_agency_name</th>\n",
       "      <th>agency_type_name</th>\n",
       "      <th>state_abbr</th>\n",
       "      <th>state_name</th>\n",
       "      <th>region_name</th>\n",
       "      <th>population_group_code</th>\n",
       "      <th>population_group_description</th>\n",
       "      <th>incident_date</th>\n",
       "      <th>offender_count</th>\n",
       "      <th>offender_race</th>\n",
       "      <th>victim_count</th>\n",
       "      <th>offense_type</th>\n",
       "      <th>location_type</th>\n",
       "      <th>prejudice</th>\n",
       "      <th>victim_types</th>\n",
       "    </tr>\n",
       "  </thead>\n",
       "  <tbody>\n",
       "    <tr>\n",
       "      <th>0</th>\n",
       "      <td>3015</td>\n",
       "      <td>1991</td>\n",
       "      <td>Rogers</td>\n",
       "      <td>City</td>\n",
       "      <td>AR</td>\n",
       "      <td>Arkansas</td>\n",
       "      <td>South</td>\n",
       "      <td>5</td>\n",
       "      <td>Cities from 10,000 thru 24,999</td>\n",
       "      <td>1991-08-31</td>\n",
       "      <td>1</td>\n",
       "      <td>White</td>\n",
       "      <td>1</td>\n",
       "      <td>Intimidation</td>\n",
       "      <td>Highway/Road/Alley/Street/Sidewalk</td>\n",
       "      <td>Anti-Black or African American</td>\n",
       "      <td>Individual</td>\n",
       "    </tr>\n",
       "    <tr>\n",
       "      <th>1</th>\n",
       "      <td>3016</td>\n",
       "      <td>1991</td>\n",
       "      <td>Hope</td>\n",
       "      <td>City</td>\n",
       "      <td>AR</td>\n",
       "      <td>Arkansas</td>\n",
       "      <td>South</td>\n",
       "      <td>6</td>\n",
       "      <td>Cities from 2,500 thru 9,999</td>\n",
       "      <td>1991-09-19</td>\n",
       "      <td>1</td>\n",
       "      <td>Black or African American</td>\n",
       "      <td>1</td>\n",
       "      <td>Simple Assault</td>\n",
       "      <td>Highway/Road/Alley/Street/Sidewalk</td>\n",
       "      <td>Anti-White</td>\n",
       "      <td>Individual</td>\n",
       "    </tr>\n",
       "    <tr>\n",
       "      <th>2</th>\n",
       "      <td>43</td>\n",
       "      <td>1991</td>\n",
       "      <td>Pine Bluff</td>\n",
       "      <td>City</td>\n",
       "      <td>AR</td>\n",
       "      <td>Arkansas</td>\n",
       "      <td>South</td>\n",
       "      <td>3</td>\n",
       "      <td>Cities from 50,000 thru 99,999</td>\n",
       "      <td>1991-07-04</td>\n",
       "      <td>1</td>\n",
       "      <td>Black or African American</td>\n",
       "      <td>1</td>\n",
       "      <td>Aggravated Assault</td>\n",
       "      <td>Residence/Home</td>\n",
       "      <td>Anti-Black or African American</td>\n",
       "      <td>Individual</td>\n",
       "    </tr>\n",
       "    <tr>\n",
       "      <th>3</th>\n",
       "      <td>44</td>\n",
       "      <td>1991</td>\n",
       "      <td>Pine Bluff</td>\n",
       "      <td>City</td>\n",
       "      <td>AR</td>\n",
       "      <td>Arkansas</td>\n",
       "      <td>South</td>\n",
       "      <td>3</td>\n",
       "      <td>Cities from 50,000 thru 99,999</td>\n",
       "      <td>1991-12-24</td>\n",
       "      <td>1</td>\n",
       "      <td>Black or African American</td>\n",
       "      <td>2</td>\n",
       "      <td>Aggravated Assault;Destruction/Damage/Vandalis...</td>\n",
       "      <td>Highway/Road/Alley/Street/Sidewalk</td>\n",
       "      <td>Anti-White</td>\n",
       "      <td>Individual</td>\n",
       "    </tr>\n",
       "    <tr>\n",
       "      <th>4</th>\n",
       "      <td>3017</td>\n",
       "      <td>1991</td>\n",
       "      <td>Pine Bluff</td>\n",
       "      <td>City</td>\n",
       "      <td>AR</td>\n",
       "      <td>Arkansas</td>\n",
       "      <td>South</td>\n",
       "      <td>3</td>\n",
       "      <td>Cities from 50,000 thru 99,999</td>\n",
       "      <td>1991-12-23</td>\n",
       "      <td>1</td>\n",
       "      <td>Black or African American</td>\n",
       "      <td>1</td>\n",
       "      <td>Aggravated Assault</td>\n",
       "      <td>Service/Gas Station</td>\n",
       "      <td>Anti-White</td>\n",
       "      <td>Individual</td>\n",
       "    </tr>\n",
       "  </tbody>\n",
       "</table>\n",
       "</div>"
      ],
      "text/plain": [
       "   incident_id  incident_year pub_agency_name agency_type_name state_abbr  \\\n",
       "0         3015           1991          Rogers             City         AR   \n",
       "1         3016           1991            Hope             City         AR   \n",
       "2           43           1991      Pine Bluff             City         AR   \n",
       "3           44           1991      Pine Bluff             City         AR   \n",
       "4         3017           1991      Pine Bluff             City         AR   \n",
       "\n",
       "  state_name region_name population_group_code  \\\n",
       "0   Arkansas       South                     5   \n",
       "1   Arkansas       South                     6   \n",
       "2   Arkansas       South                     3   \n",
       "3   Arkansas       South                     3   \n",
       "4   Arkansas       South                     3   \n",
       "\n",
       "     population_group_description incident_date  offender_count  \\\n",
       "0  Cities from 10,000 thru 24,999    1991-08-31               1   \n",
       "1    Cities from 2,500 thru 9,999    1991-09-19               1   \n",
       "2  Cities from 50,000 thru 99,999    1991-07-04               1   \n",
       "3  Cities from 50,000 thru 99,999    1991-12-24               1   \n",
       "4  Cities from 50,000 thru 99,999    1991-12-23               1   \n",
       "\n",
       "               offender_race  victim_count  \\\n",
       "0                      White             1   \n",
       "1  Black or African American             1   \n",
       "2  Black or African American             1   \n",
       "3  Black or African American             2   \n",
       "4  Black or African American             1   \n",
       "\n",
       "                                        offense_type  \\\n",
       "0                                       Intimidation   \n",
       "1                                     Simple Assault   \n",
       "2                                 Aggravated Assault   \n",
       "3  Aggravated Assault;Destruction/Damage/Vandalis...   \n",
       "4                                 Aggravated Assault   \n",
       "\n",
       "                        location_type                       prejudice  \\\n",
       "0  Highway/Road/Alley/Street/Sidewalk  Anti-Black or African American   \n",
       "1  Highway/Road/Alley/Street/Sidewalk                      Anti-White   \n",
       "2                      Residence/Home  Anti-Black or African American   \n",
       "3  Highway/Road/Alley/Street/Sidewalk                      Anti-White   \n",
       "4                 Service/Gas Station                      Anti-White   \n",
       "\n",
       "  victim_types  \n",
       "0   Individual  \n",
       "1   Individual  \n",
       "2   Individual  \n",
       "3   Individual  \n",
       "4   Individual  "
      ]
     },
     "execution_count": 27,
     "metadata": {},
     "output_type": "execute_result"
    }
   ],
   "source": [
    "hate_crime.head()"
   ]
  },
  {
   "attachments": {},
   "cell_type": "markdown",
   "metadata": {},
   "source": [
    "Our columns have been successfully reformatted; now we move on to the Analyze (and Share) phases!"
   ]
  },
  {
   "attachments": {},
   "cell_type": "markdown",
   "metadata": {},
   "source": [
    "# Analysis"
   ]
  },
  {
   "attachments": {},
   "cell_type": "markdown",
   "metadata": {},
   "source": [
    "It's time to examine our data using visuals that will help us evaluate it and find the answers to our queries.\n",
    "\n",
    "In order to conduct this research, we must first establish a new dataframe containing information on Hate Crimes exclusively. Anti-Lesbian, Gay, Bisexual, or Transgender prejudices, Anti-Black or African American prejudices, Anti-Jewish prejudices, Anti-Asian prejudices, Anti-Hispanic or Latino prejudices, Anti-Other Race/Ethnicity/Ancestry prejudices (Mixed Group), Anti-Muslim (Muslim), Anti-White, Anti-American Indian/Alaska Native\n",
    "\n",
    "For the sake of this Case Study, this is done to make it possible to analyze and visualize our dataset. If I attempted to visualize every form of prejudice recorded in this dataset, my vizualizations would be cluttered and difficult to understand."
   ]
  },
  {
   "attachments": {},
   "cell_type": "markdown",
   "metadata": {},
   "source": [
    "Let's create our new dataframe."
   ]
  },
  {
   "cell_type": "code",
   "execution_count": 28,
   "metadata": {},
   "outputs": [],
   "source": [
    "#Dataset that only shows data for the big racial/identity groups\n",
    "crime_data = hate_crime[(hate_crime['prejudice'] == 'Anti-Black or African American') \n",
    "         | (hate_crime['prejudice'] == 'Anti-Jewish') \n",
    "         | (hate_crime['prejudice'] == 'Anti-Hispanic or Latino')\n",
    "         | (hate_crime['prejudice'] == 'Anti-White') \n",
    "         | (hate_crime['prejudice'] == 'Anti-Asian')\n",
    "         | (hate_crime['prejudice'] == 'Anti-Gay (Male)') \n",
    "         | (hate_crime['prejudice'] == 'Anti-Islamic (Muslim)')\n",
    "         | (hate_crime['prejudice'] == 'Anti-Lesbian, Gay, Bisexual, or Transgender (Mixed Group)') \n",
    "         | (hate_crime['prejudice'] == 'Anti-Other Race/Ethnicity/Ancestry') \n",
    "         | (hate_crime['prejudice'] == 'Anti-Lesbian (Female)') \n",
    "         | (hate_crime['prejudice'] == 'Anti-American Indian/Alaska Native')]"
   ]
  },
  {
   "attachments": {},
   "cell_type": "markdown",
   "metadata": {},
   "source": [
    "Check the head of the crime_data dataframe, and the prejudice column."
   ]
  },
  {
   "cell_type": "code",
   "execution_count": 29,
   "metadata": {},
   "outputs": [
    {
     "data": {
      "text/html": [
       "<div>\n",
       "<style scoped>\n",
       "    .dataframe tbody tr th:only-of-type {\n",
       "        vertical-align: middle;\n",
       "    }\n",
       "\n",
       "    .dataframe tbody tr th {\n",
       "        vertical-align: top;\n",
       "    }\n",
       "\n",
       "    .dataframe thead th {\n",
       "        text-align: right;\n",
       "    }\n",
       "</style>\n",
       "<table border=\"1\" class=\"dataframe\">\n",
       "  <thead>\n",
       "    <tr style=\"text-align: right;\">\n",
       "      <th></th>\n",
       "      <th>incident_id</th>\n",
       "      <th>incident_year</th>\n",
       "      <th>pub_agency_name</th>\n",
       "      <th>agency_type_name</th>\n",
       "      <th>state_abbr</th>\n",
       "      <th>state_name</th>\n",
       "      <th>region_name</th>\n",
       "      <th>population_group_code</th>\n",
       "      <th>population_group_description</th>\n",
       "      <th>incident_date</th>\n",
       "      <th>offender_count</th>\n",
       "      <th>offender_race</th>\n",
       "      <th>victim_count</th>\n",
       "      <th>offense_type</th>\n",
       "      <th>location_type</th>\n",
       "      <th>prejudice</th>\n",
       "      <th>victim_types</th>\n",
       "    </tr>\n",
       "  </thead>\n",
       "  <tbody>\n",
       "    <tr>\n",
       "      <th>0</th>\n",
       "      <td>3015</td>\n",
       "      <td>1991</td>\n",
       "      <td>Rogers</td>\n",
       "      <td>City</td>\n",
       "      <td>AR</td>\n",
       "      <td>Arkansas</td>\n",
       "      <td>South</td>\n",
       "      <td>5</td>\n",
       "      <td>Cities from 10,000 thru 24,999</td>\n",
       "      <td>1991-08-31</td>\n",
       "      <td>1</td>\n",
       "      <td>White</td>\n",
       "      <td>1</td>\n",
       "      <td>Intimidation</td>\n",
       "      <td>Highway/Road/Alley/Street/Sidewalk</td>\n",
       "      <td>Anti-Black or African American</td>\n",
       "      <td>Individual</td>\n",
       "    </tr>\n",
       "    <tr>\n",
       "      <th>1</th>\n",
       "      <td>3016</td>\n",
       "      <td>1991</td>\n",
       "      <td>Hope</td>\n",
       "      <td>City</td>\n",
       "      <td>AR</td>\n",
       "      <td>Arkansas</td>\n",
       "      <td>South</td>\n",
       "      <td>6</td>\n",
       "      <td>Cities from 2,500 thru 9,999</td>\n",
       "      <td>1991-09-19</td>\n",
       "      <td>1</td>\n",
       "      <td>Black or African American</td>\n",
       "      <td>1</td>\n",
       "      <td>Simple Assault</td>\n",
       "      <td>Highway/Road/Alley/Street/Sidewalk</td>\n",
       "      <td>Anti-White</td>\n",
       "      <td>Individual</td>\n",
       "    </tr>\n",
       "    <tr>\n",
       "      <th>2</th>\n",
       "      <td>43</td>\n",
       "      <td>1991</td>\n",
       "      <td>Pine Bluff</td>\n",
       "      <td>City</td>\n",
       "      <td>AR</td>\n",
       "      <td>Arkansas</td>\n",
       "      <td>South</td>\n",
       "      <td>3</td>\n",
       "      <td>Cities from 50,000 thru 99,999</td>\n",
       "      <td>1991-07-04</td>\n",
       "      <td>1</td>\n",
       "      <td>Black or African American</td>\n",
       "      <td>1</td>\n",
       "      <td>Aggravated Assault</td>\n",
       "      <td>Residence/Home</td>\n",
       "      <td>Anti-Black or African American</td>\n",
       "      <td>Individual</td>\n",
       "    </tr>\n",
       "    <tr>\n",
       "      <th>3</th>\n",
       "      <td>44</td>\n",
       "      <td>1991</td>\n",
       "      <td>Pine Bluff</td>\n",
       "      <td>City</td>\n",
       "      <td>AR</td>\n",
       "      <td>Arkansas</td>\n",
       "      <td>South</td>\n",
       "      <td>3</td>\n",
       "      <td>Cities from 50,000 thru 99,999</td>\n",
       "      <td>1991-12-24</td>\n",
       "      <td>1</td>\n",
       "      <td>Black or African American</td>\n",
       "      <td>2</td>\n",
       "      <td>Aggravated Assault;Destruction/Damage/Vandalis...</td>\n",
       "      <td>Highway/Road/Alley/Street/Sidewalk</td>\n",
       "      <td>Anti-White</td>\n",
       "      <td>Individual</td>\n",
       "    </tr>\n",
       "    <tr>\n",
       "      <th>4</th>\n",
       "      <td>3017</td>\n",
       "      <td>1991</td>\n",
       "      <td>Pine Bluff</td>\n",
       "      <td>City</td>\n",
       "      <td>AR</td>\n",
       "      <td>Arkansas</td>\n",
       "      <td>South</td>\n",
       "      <td>3</td>\n",
       "      <td>Cities from 50,000 thru 99,999</td>\n",
       "      <td>1991-12-23</td>\n",
       "      <td>1</td>\n",
       "      <td>Black or African American</td>\n",
       "      <td>1</td>\n",
       "      <td>Aggravated Assault</td>\n",
       "      <td>Service/Gas Station</td>\n",
       "      <td>Anti-White</td>\n",
       "      <td>Individual</td>\n",
       "    </tr>\n",
       "  </tbody>\n",
       "</table>\n",
       "</div>"
      ],
      "text/plain": [
       "   incident_id  incident_year pub_agency_name agency_type_name state_abbr  \\\n",
       "0         3015           1991          Rogers             City         AR   \n",
       "1         3016           1991            Hope             City         AR   \n",
       "2           43           1991      Pine Bluff             City         AR   \n",
       "3           44           1991      Pine Bluff             City         AR   \n",
       "4         3017           1991      Pine Bluff             City         AR   \n",
       "\n",
       "  state_name region_name population_group_code  \\\n",
       "0   Arkansas       South                     5   \n",
       "1   Arkansas       South                     6   \n",
       "2   Arkansas       South                     3   \n",
       "3   Arkansas       South                     3   \n",
       "4   Arkansas       South                     3   \n",
       "\n",
       "     population_group_description incident_date  offender_count  \\\n",
       "0  Cities from 10,000 thru 24,999    1991-08-31               1   \n",
       "1    Cities from 2,500 thru 9,999    1991-09-19               1   \n",
       "2  Cities from 50,000 thru 99,999    1991-07-04               1   \n",
       "3  Cities from 50,000 thru 99,999    1991-12-24               1   \n",
       "4  Cities from 50,000 thru 99,999    1991-12-23               1   \n",
       "\n",
       "               offender_race  victim_count  \\\n",
       "0                      White             1   \n",
       "1  Black or African American             1   \n",
       "2  Black or African American             1   \n",
       "3  Black or African American             2   \n",
       "4  Black or African American             1   \n",
       "\n",
       "                                        offense_type  \\\n",
       "0                                       Intimidation   \n",
       "1                                     Simple Assault   \n",
       "2                                 Aggravated Assault   \n",
       "3  Aggravated Assault;Destruction/Damage/Vandalis...   \n",
       "4                                 Aggravated Assault   \n",
       "\n",
       "                        location_type                       prejudice  \\\n",
       "0  Highway/Road/Alley/Street/Sidewalk  Anti-Black or African American   \n",
       "1  Highway/Road/Alley/Street/Sidewalk                      Anti-White   \n",
       "2                      Residence/Home  Anti-Black or African American   \n",
       "3  Highway/Road/Alley/Street/Sidewalk                      Anti-White   \n",
       "4                 Service/Gas Station                      Anti-White   \n",
       "\n",
       "  victim_types  \n",
       "0   Individual  \n",
       "1   Individual  \n",
       "2   Individual  \n",
       "3   Individual  \n",
       "4   Individual  "
      ]
     },
     "execution_count": 29,
     "metadata": {},
     "output_type": "execute_result"
    }
   ],
   "source": [
    "crime_data.head()"
   ]
  },
  {
   "attachments": {},
   "cell_type": "markdown",
   "metadata": {},
   "source": [
    "Perfect. Let's now attempt to respond to the initial query we made on our dataset."
   ]
  },
  {
   "attachments": {},
   "cell_type": "markdown",
   "metadata": {},
   "source": [
    "# Question 1: How has the rate of hate crimes behaved in America from 1991-2018? Has it increased? Decreased?"
   ]
  },
  {
   "attachments": {},
   "cell_type": "markdown",
   "metadata": {},
   "source": [
    "We must sort the information in our DataFrame according to how many hate crimes are recorded annually in order to find the answer to this question. This new dataframe will be known as \"by year.\""
   ]
  },
  {
   "cell_type": "code",
   "execution_count": 30,
   "metadata": {},
   "outputs": [
    {
     "data": {
      "text/html": [
       "<div>\n",
       "<style scoped>\n",
       "    .dataframe tbody tr th:only-of-type {\n",
       "        vertical-align: middle;\n",
       "    }\n",
       "\n",
       "    .dataframe tbody tr th {\n",
       "        vertical-align: top;\n",
       "    }\n",
       "\n",
       "    .dataframe thead th {\n",
       "        text-align: right;\n",
       "    }\n",
       "</style>\n",
       "<table border=\"1\" class=\"dataframe\">\n",
       "  <thead>\n",
       "    <tr style=\"text-align: right;\">\n",
       "      <th></th>\n",
       "      <th>incident_id</th>\n",
       "      <th>pub_agency_name</th>\n",
       "      <th>agency_type_name</th>\n",
       "      <th>state_abbr</th>\n",
       "      <th>state_name</th>\n",
       "      <th>region_name</th>\n",
       "      <th>population_group_code</th>\n",
       "      <th>population_group_description</th>\n",
       "      <th>incident_date</th>\n",
       "      <th>offender_count</th>\n",
       "      <th>offender_race</th>\n",
       "      <th>victim_count</th>\n",
       "      <th>offense_type</th>\n",
       "      <th>location_type</th>\n",
       "      <th>prejudice</th>\n",
       "      <th>victim_types</th>\n",
       "    </tr>\n",
       "    <tr>\n",
       "      <th>incident_year</th>\n",
       "      <th></th>\n",
       "      <th></th>\n",
       "      <th></th>\n",
       "      <th></th>\n",
       "      <th></th>\n",
       "      <th></th>\n",
       "      <th></th>\n",
       "      <th></th>\n",
       "      <th></th>\n",
       "      <th></th>\n",
       "      <th></th>\n",
       "      <th></th>\n",
       "      <th></th>\n",
       "      <th></th>\n",
       "      <th></th>\n",
       "      <th></th>\n",
       "    </tr>\n",
       "  </thead>\n",
       "  <tbody>\n",
       "    <tr>\n",
       "      <th>1991</th>\n",
       "      <td>4297</td>\n",
       "      <td>4297</td>\n",
       "      <td>4297</td>\n",
       "      <td>4297</td>\n",
       "      <td>4297</td>\n",
       "      <td>4297</td>\n",
       "      <td>4297</td>\n",
       "      <td>4297</td>\n",
       "      <td>4297</td>\n",
       "      <td>4297</td>\n",
       "      <td>4297</td>\n",
       "      <td>4297</td>\n",
       "      <td>4297</td>\n",
       "      <td>4297</td>\n",
       "      <td>4297</td>\n",
       "      <td>4297</td>\n",
       "    </tr>\n",
       "    <tr>\n",
       "      <th>1992</th>\n",
       "      <td>6286</td>\n",
       "      <td>6286</td>\n",
       "      <td>6286</td>\n",
       "      <td>6286</td>\n",
       "      <td>6286</td>\n",
       "      <td>6286</td>\n",
       "      <td>6286</td>\n",
       "      <td>6286</td>\n",
       "      <td>6286</td>\n",
       "      <td>6286</td>\n",
       "      <td>6286</td>\n",
       "      <td>6286</td>\n",
       "      <td>6286</td>\n",
       "      <td>6286</td>\n",
       "      <td>6286</td>\n",
       "      <td>6286</td>\n",
       "    </tr>\n",
       "    <tr>\n",
       "      <th>1993</th>\n",
       "      <td>7184</td>\n",
       "      <td>7184</td>\n",
       "      <td>7184</td>\n",
       "      <td>7184</td>\n",
       "      <td>7184</td>\n",
       "      <td>7184</td>\n",
       "      <td>7184</td>\n",
       "      <td>7184</td>\n",
       "      <td>7184</td>\n",
       "      <td>7184</td>\n",
       "      <td>7184</td>\n",
       "      <td>7184</td>\n",
       "      <td>7184</td>\n",
       "      <td>7184</td>\n",
       "      <td>7184</td>\n",
       "      <td>7184</td>\n",
       "    </tr>\n",
       "    <tr>\n",
       "      <th>1994</th>\n",
       "      <td>5595</td>\n",
       "      <td>5595</td>\n",
       "      <td>5595</td>\n",
       "      <td>5595</td>\n",
       "      <td>5595</td>\n",
       "      <td>5595</td>\n",
       "      <td>5595</td>\n",
       "      <td>5595</td>\n",
       "      <td>5595</td>\n",
       "      <td>5595</td>\n",
       "      <td>5595</td>\n",
       "      <td>5595</td>\n",
       "      <td>5595</td>\n",
       "      <td>5595</td>\n",
       "      <td>5595</td>\n",
       "      <td>5595</td>\n",
       "    </tr>\n",
       "    <tr>\n",
       "      <th>1995</th>\n",
       "      <td>7403</td>\n",
       "      <td>7403</td>\n",
       "      <td>7403</td>\n",
       "      <td>7403</td>\n",
       "      <td>7403</td>\n",
       "      <td>7403</td>\n",
       "      <td>7403</td>\n",
       "      <td>7403</td>\n",
       "      <td>7403</td>\n",
       "      <td>7403</td>\n",
       "      <td>7403</td>\n",
       "      <td>7403</td>\n",
       "      <td>7403</td>\n",
       "      <td>7403</td>\n",
       "      <td>7403</td>\n",
       "      <td>7403</td>\n",
       "    </tr>\n",
       "  </tbody>\n",
       "</table>\n",
       "</div>"
      ],
      "text/plain": [
       "               incident_id  pub_agency_name  agency_type_name  state_abbr  \\\n",
       "incident_year                                                               \n",
       "1991                  4297             4297              4297        4297   \n",
       "1992                  6286             6286              6286        6286   \n",
       "1993                  7184             7184              7184        7184   \n",
       "1994                  5595             5595              5595        5595   \n",
       "1995                  7403             7403              7403        7403   \n",
       "\n",
       "               state_name  region_name  population_group_code  \\\n",
       "incident_year                                                   \n",
       "1991                 4297         4297                   4297   \n",
       "1992                 6286         6286                   6286   \n",
       "1993                 7184         7184                   7184   \n",
       "1994                 5595         5595                   5595   \n",
       "1995                 7403         7403                   7403   \n",
       "\n",
       "               population_group_description  incident_date  offender_count  \\\n",
       "incident_year                                                                \n",
       "1991                                   4297           4297            4297   \n",
       "1992                                   6286           6286            6286   \n",
       "1993                                   7184           7184            7184   \n",
       "1994                                   5595           5595            5595   \n",
       "1995                                   7403           7403            7403   \n",
       "\n",
       "               offender_race  victim_count  offense_type  location_type  \\\n",
       "incident_year                                                             \n",
       "1991                    4297          4297          4297           4297   \n",
       "1992                    6286          6286          6286           6286   \n",
       "1993                    7184          7184          7184           7184   \n",
       "1994                    5595          5595          5595           5595   \n",
       "1995                    7403          7403          7403           7403   \n",
       "\n",
       "               prejudice  victim_types  \n",
       "incident_year                           \n",
       "1991                4297          4297  \n",
       "1992                6286          6286  \n",
       "1993                7184          7184  \n",
       "1994                5595          5595  \n",
       "1995                7403          7403  "
      ]
     },
     "execution_count": 30,
     "metadata": {},
     "output_type": "execute_result"
    }
   ],
   "source": [
    "by_year = crime_data.groupby('incident_year').count()\n",
    "by_year.head()"
   ]
  },
  {
   "attachments": {},
   "cell_type": "markdown",
   "metadata": {},
   "source": [
    "The precise number of hate crimes registered each year is now in our dataset, which is perfect.\n",
    "\n",
    "Let's plot this data on a line to visualize it."
   ]
  },
  {
   "cell_type": "code",
   "execution_count": 32,
   "metadata": {},
   "outputs": [
    {
     "data": {
      "text/plain": [
       "Text(0, 0.5, 'Total Reported Hate Crimes')"
      ]
     },
     "execution_count": 32,
     "metadata": {},
     "output_type": "execute_result"
    },
    {
     "data": {
      "image/png": "[encoded data removed]",
      "text/plain": [
       "<Figure size 720x432 with 1 Axes>"
      ]
     },
     "metadata": {},
     "output_type": "display_data"
    }
   ],
   "source": [
    "sns.set_style('darkgrid') # setting the style of our data vizualizations to make them more appealing\n",
    "plt.figure(figsize=(10,6))\n",
    "sns.lineplot(data=by_year,x=by_year.index,y='prejudice',color='red')\n",
    "plt.title(\"Hate Crime Rate (1991-2018)\")\n",
    "plt.xlabel('Year')\n",
    "plt.ylabel('Total Reported Hate Crimes')"
   ]
  },
  {
   "attachments": {},
   "cell_type": "markdown",
   "metadata": {},
   "source": [
    "We can deduce from the line plot that, between 1991 and 1992, hate crimes in America increased on average.\n",
    "\n",
    "Then, in 1993, the rate of hate crimes started to sharply fall before exploding in the years 1994–1996.\n",
    "\n",
    "A slight reduction in hate crime rates from 1996 to 1998 was followed by an increase that peaked in 2001, the year with the most hate crime reports overall in this analysis.\n",
    "\n",
    "Following 2001, there was a sharp decline in the number of reported hate crimes, which persisted until 2014, when it started to rise once more."
   ]
  },
  {
   "attachments": {},
   "cell_type": "markdown",
   "metadata": {},
   "source": [
    "Let's try to answer our second question next."
   ]
  },
  {
   "attachments": {},
   "cell_type": "markdown",
   "metadata": {},
   "source": [
    "# Question 2: What types of hate crimes were most common from 1991-2018?"
   ]
  },
  {
   "attachments": {},
   "cell_type": "markdown",
   "metadata": {},
   "source": [
    "In order to respond to this query, we first determined the overall frequency of each form of hate crime in our offense type field. We'll take a look at the top 10 most typical categories of hate crimes."
   ]
  },
  {
   "cell_type": "code",
   "execution_count": 33,
   "metadata": {},
   "outputs": [
    {
     "data": {
      "text/plain": [
       "Intimidation                                             0.302440\n",
       "Destruction/Damage/Vandalism of Property                 0.298614\n",
       "Simple Assault                                           0.195374\n",
       "Aggravated Assault                                       0.108966\n",
       "Robbery                                                  0.018032\n",
       "Burglary/Breaking & Entering                             0.011370\n",
       "Destruction/Damage/Vandalism of Property;Intimidation    0.008875\n",
       "All Other Larceny                                        0.005616\n",
       "Arson                                                    0.004768\n",
       "Intimidation;Simple Assault                              0.004421\n",
       "Name: offense_type, dtype: float64"
      ]
     },
     "execution_count": 33,
     "metadata": {},
     "output_type": "execute_result"
    }
   ],
   "source": [
    "#Dividing our column by the total number of values in it to get the percentage proportion of each value.\n",
    "crime_data['offense_type'].value_counts().head(10)/len(crime_data['offense_type'])"
   ]
  },
  {
   "attachments": {},
   "cell_type": "markdown",
   "metadata": {},
   "source": [
    "Intimidation, Destruction/Damage/Vandalism of Property, Simple Assault, and Aggravated Assault account for almost 90% of the data in this column, making them the most prevalent categories of hate crimes from 1991 to 2018.\n",
    "\n",
    "Robbery, Burglary/B&E, and different other hate crimes make up the remaining percentage of reported hate crime types.\n",
    "\n",
    "Instead of excluding the remaining % from our data visualization, we'll combine it by modifying its values to \"Robbery/B&E/Other.\" This would enable us to meaningfully examine and visualize the remaining reports on various hate crimes without overwhelming our data visualization.\n",
    "\n",
    "To do this, we will first develop a function that verifies that a crime does not fall within one of the top four reported offense categories. If so, nothing is altered by the function. If not, it will set that offense type's value to \"Robbery/B&E/Other.\""
   ]
  },
  {
   "cell_type": "code",
   "execution_count": 34,
   "metadata": {},
   "outputs": [],
   "source": [
    "top_four = ['Intimidation','Destruction/Damage/Vandalism of Property','Simple Assault','Aggravated Assault']\n",
    "def crime_check(crime):\n",
    "    if crime in top_four:\n",
    "        return crime\n",
    "    else:\n",
    "        return 'Robbery/B&E/Other'"
   ]
  },
  {
   "attachments": {},
   "cell_type": "markdown",
   "metadata": {},
   "source": [
    "Now let's make a new dataframe with the same values as crime_data and use the crime check function on the column labeled \"offense type.\" This dataframe will be known as \"most common hate crimes.\""
   ]
  },
  {
   "cell_type": "code",
   "execution_count": 35,
   "metadata": {},
   "outputs": [
    {
     "name": "stderr",
     "output_type": "stream",
     "text": [
      "/tmp/ipykernel_20109/897458047.py:2: SettingWithCopyWarning:\n",
      "\n",
      "\n",
      "A value is trying to be set on a copy of a slice from a DataFrame.\n",
      "Try using .loc[row_indexer,col_indexer] = value instead\n",
      "\n",
      "See the caveats in the documentation: https://pandas.pydata.org/pandas-docs/stable/user_guide/indexing.html#returning-a-view-versus-a-copy\n",
      "\n"
     ]
    }
   ],
   "source": [
    "most_common_hate_crimes = crime_data\n",
    "most_common_hate_crimes['offense_type'] = most_common_hate_crimes['offense_type'].apply(crime_check)"
   ]
  },
  {
   "attachments": {},
   "cell_type": "markdown",
   "metadata": {},
   "source": [
    "To verify that our changes were accepted, let's look at the offense type column's value count in our new dataframe."
   ]
  },
  {
   "cell_type": "code",
   "execution_count": 36,
   "metadata": {},
   "outputs": [
    {
     "data": {
      "text/plain": [
       "Intimidation                                54931\n",
       "Destruction/Damage/Vandalism of Property    54236\n",
       "Simple Assault                              35485\n",
       "Aggravated Assault                          19791\n",
       "Robbery/B&E/Other                           17183\n",
       "Name: offense_type, dtype: int64"
      ]
     },
     "execution_count": 36,
     "metadata": {},
     "output_type": "execute_result"
    }
   ],
   "source": [
    "most_common_hate_crimes['offense_type'].value_counts()"
   ]
  },
  {
   "attachments": {},
   "cell_type": "markdown",
   "metadata": {},
   "source": [
    "It succeeded!\n",
    "\n",
    "We can now see all of our data using a countplot to better understand how prevalent each form of hate crime actually is. This is because all of our data is now accurately represented in our dataframe."
   ]
  },
  {
   "cell_type": "code",
   "execution_count": 37,
   "metadata": {},
   "outputs": [
    {
     "data": {
      "text/plain": [
       "Text(0.5, 1, 'Total Hate Crimes per Offense Type (1991-2018)')"
      ]
     },
     "execution_count": 37,
     "metadata": {},
     "output_type": "execute_result"
    },
    {
     "data": {
      "image/png": "[encoded data removed]",
      "text/plain": [
       "<Figure size 1008x432 with 1 Axes>"
      ]
     },
     "metadata": {},
     "output_type": "display_data"
    }
   ],
   "source": [
    "plt.figure(figsize=(14,6))\n",
    "sns.countplot(data=most_common_hate_crimes,x='offense_type',palette='Set2')\n",
    "plt.tight_layout()\n",
    "plt.xlabel('Offense Type')\n",
    "plt.title('Total Hate Crimes per Offense Type (1991-2018)')"
   ]
  },
  {
   "attachments": {},
   "cell_type": "markdown",
   "metadata": {},
   "source": [
    "According to this graph, the two most common types of hate crimes out of the five covered in our dataset are intimidation and destruction/damage/vandalism of property, with simple assault and aggravated assault coming in third and fourth, respectively. The remaining hate crimes documented from 1991 to 2018 were classified as robberies, break-ins, or other different kinds of hate crimes.\n",
    "\n",
    "Let's take this visualization a step further by seeing any preconceptions that are often the driving forces behind each kind of violation."
   ]
  },
  {
   "cell_type": "code",
   "execution_count": 38,
   "metadata": {},
   "outputs": [
    {
     "data": {
      "text/plain": [
       "Text(0.5, 33.0, 'Offense Type')"
      ]
     },
     "execution_count": 38,
     "metadata": {},
     "output_type": "execute_result"
    },
    {
     "data": {
      "image/png": "[encoded data removed]",
      "text/plain": [
       "<Figure size 1008x432 with 1 Axes>"
      ]
     },
     "metadata": {},
     "output_type": "display_data"
    }
   ],
   "source": [
    "plt.figure(figsize=(14,6))\n",
    "sns.countplot(data=most_common_hate_crimes,x='offense_type',hue='prejudice')\n",
    "plt.tight_layout()\n",
    "plt.title(\"Total Prejudice per Offense Type (1991-2018)\")\n",
    "plt.xlabel(\"Offense Type\")"
   ]
  },
  {
   "attachments": {},
   "cell_type": "markdown",
   "metadata": {},
   "source": [
    "The total number of hate crimes spurred by each type of prejudice for each category of hate crime is represented in this graph.\n",
    "\n",
    "When I look at it, several things come to mind:\n",
    "\n",
    "Intimidation and destruction/damage/vandalism of property are the most frequent types of hate crimes motivated by this prejudice (>=20,000 recorded instances), accounting for the majority of each category of hate crime.\n",
    "\n",
    "The majority of hate crimes against Jews fall into the \"Destruction/Damage/Vandalism of Property\" and \"Intimidation\" categories, with a significant number of these crimes (>15,000 reported incidents) being motivated by anti-Jewish prejudices as well as a sizeable number (>5000 reported incidents) of intimidation crimes.\n",
    "\n",
    "The LGBT community experiences significant harm from all four categories of hate crimes, with prejudices against gay men, lesbian women, and mixed-group LGBT people making up a sizable share of each category.\n",
    "\n",
    "Intimidation, Simple Assault, and Robbery/B&E/Other are the most frequent types of hate crimes motivated by this prejudice, which account for a sizable portion of all hate crimes.\n",
    "\n",
    "Anti-Hispanic or Latino prejudices are often the driving force behind intimidation, simple assault, aggravated assault, and destruction/damage/vandalism of property hate crimes."
   ]
  },
  {
   "attachments": {},
   "cell_type": "markdown",
   "metadata": {},
   "source": [
    "# Question 3: How many hate crimes were committed against each group from 1991-2018?"
   ]
  },
  {
   "attachments": {},
   "cell_type": "markdown",
   "metadata": {},
   "source": [
    "By building a countplot that tracks the overall number of hate crimes inspired by each type of prejudice, we may provide an answer to this question."
   ]
  },
  {
   "cell_type": "code",
   "execution_count": 39,
   "metadata": {},
   "outputs": [
    {
     "data": {
      "text/plain": [
       "Text(0.5, 0, 'Prejudice')"
      ]
     },
     "execution_count": 39,
     "metadata": {},
     "output_type": "execute_result"
    },
    {
     "data": {
      "image/png": "[encoded data removed]",
      "text/plain": [
       "<Figure size 864x360 with 1 Axes>"
      ]
     },
     "metadata": {},
     "output_type": "display_data"
    }
   ],
   "source": [
    "plt.figure(figsize=(12,5))\n",
    "sns.set_context('notebook',font_scale=1)\n",
    "sns.countplot(data=crime_data,x='prejudice')\n",
    "plt.xticks(rotation=50)\n",
    "plt.title(\"Total Hate Crimes per Prejudice (1991-2018)\")\n",
    "plt.xlabel(\"Prejudice\")"
   ]
  },
  {
   "attachments": {},
   "cell_type": "markdown",
   "metadata": {},
   "source": [
    "The total number of hate crimes for each bias is displayed in this graph. Anti-Black or African-American prejudice was the main driver of hate crimes, accounting for nearly 70,000 reported cases, followed by anti-Jewish prejudice (over 25,000), anti-White prejudice (over 20,000), anti-Gay (Male) prejudice (20,000), and anti-Hispanic or Latino prejudice (over 10,000 reported incidents)\n",
    "\n",
    "By visualizing the racial backgrounds of the perpetrators of the hate crimes on a different countplot, we may take this visualization a step further."
   ]
  },
  {
   "cell_type": "code",
   "execution_count": 40,
   "metadata": {},
   "outputs": [
    {
     "data": {
      "text/plain": [
       "Text(0.5, 0, 'Prejudice')"
      ]
     },
     "execution_count": 40,
     "metadata": {},
     "output_type": "execute_result"
    },
    {
     "data": {
      "image/png": "[encoded data removed]",
      "text/plain": [
       "<Figure size 864x360 with 1 Axes>"
      ]
     },
     "metadata": {},
     "output_type": "display_data"
    }
   ],
   "source": [
    "plt.figure(figsize=(12,5))\n",
    "sns.set_context('notebook',font_scale=1)\n",
    "sns.countplot(data=crime_data,x='prejudice',hue='offender_race')\n",
    "plt.xticks(rotation=90)\n",
    "plt.title(\"Offender Race per Prejudice\")\n",
    "plt.xlabel(\"Prejudice\")"
   ]
  },
  {
   "attachments": {},
   "cell_type": "markdown",
   "metadata": {},
   "source": [
    "The above plot shows us the racial identities of every hate crime offender. At a glimpse, we can see that;\n",
    "\n",
    "The majority of Anti-Black or African American Hate Crimes are committed by White people or people of unknown racial origin.\n",
    "\n",
    "The majority of Anti-White hate crimes were committed by Black People, White People, and people of unknown racial origin.\n",
    "\n",
    "The majority of Anti-Jewish hate crimes were committed by people of unknown racial origin, or White People.\n",
    "\n",
    "The majority of Anti-Gay (Male) hate crimes were committed by White People, people of unknown racial origin, and Black or African American people.\n",
    "\n",
    "The majority of Anti-Hispanic or Latino hate crimes were committed by White People, people of unknown racial origin, and Black or African American people"
   ]
  },
  {
   "attachments": {},
   "cell_type": "markdown",
   "metadata": {},
   "source": [
    "Let's try and find an answer to our fourth question now;"
   ]
  },
  {
   "attachments": {},
   "cell_type": "markdown",
   "metadata": {},
   "source": [
    "# Question 4: Which presidency administration had the highest/lowest hate crime incidents"
   ]
  },
  {
   "attachments": {},
   "cell_type": "markdown",
   "metadata": {},
   "source": [
    "To respond to this, we must first construct a function that will verify the incident's year and return the name of the President who served in that capacity at the time."
   ]
  },
  {
   "cell_type": "code",
   "execution_count": 41,
   "metadata": {},
   "outputs": [],
   "source": [
    "def president_check(year):\n",
    "    if year < 1993:\n",
    "        return 'George H.W Bush'\n",
    "    elif year < 2001:\n",
    "        return 'Bill Clinton'\n",
    "    elif year < 2009:\n",
    "        return 'George W. Bush'\n",
    "    elif year < 2017:\n",
    "        return 'Barack Obama'\n",
    "    else:\n",
    "        return 'Donald J. Trump'"
   ]
  },
  {
   "attachments": {},
   "cell_type": "markdown",
   "metadata": {},
   "source": [
    "Perfect. Now let's use that function on the \"incident year\" column in our table and save the outcomes in a new column called \"administration.\""
   ]
  },
  {
   "cell_type": "code",
   "execution_count": 42,
   "metadata": {},
   "outputs": [
    {
     "name": "stderr",
     "output_type": "stream",
     "text": [
      "/tmp/ipykernel_20109/1914128978.py:1: SettingWithCopyWarning:\n",
      "\n",
      "\n",
      "A value is trying to be set on a copy of a slice from a DataFrame.\n",
      "Try using .loc[row_indexer,col_indexer] = value instead\n",
      "\n",
      "See the caveats in the documentation: https://pandas.pydata.org/pandas-docs/stable/user_guide/indexing.html#returning-a-view-versus-a-copy\n",
      "\n"
     ]
    },
    {
     "data": {
      "text/html": [
       "<div>\n",
       "<style scoped>\n",
       "    .dataframe tbody tr th:only-of-type {\n",
       "        vertical-align: middle;\n",
       "    }\n",
       "\n",
       "    .dataframe tbody tr th {\n",
       "        vertical-align: top;\n",
       "    }\n",
       "\n",
       "    .dataframe thead th {\n",
       "        text-align: right;\n",
       "    }\n",
       "</style>\n",
       "<table border=\"1\" class=\"dataframe\">\n",
       "  <thead>\n",
       "    <tr style=\"text-align: right;\">\n",
       "      <th></th>\n",
       "      <th>incident_id</th>\n",
       "      <th>incident_year</th>\n",
       "      <th>pub_agency_name</th>\n",
       "      <th>agency_type_name</th>\n",
       "      <th>state_abbr</th>\n",
       "      <th>state_name</th>\n",
       "      <th>region_name</th>\n",
       "      <th>population_group_code</th>\n",
       "      <th>population_group_description</th>\n",
       "      <th>incident_date</th>\n",
       "      <th>offender_count</th>\n",
       "      <th>offender_race</th>\n",
       "      <th>victim_count</th>\n",
       "      <th>offense_type</th>\n",
       "      <th>location_type</th>\n",
       "      <th>prejudice</th>\n",
       "      <th>victim_types</th>\n",
       "      <th>administration</th>\n",
       "    </tr>\n",
       "  </thead>\n",
       "  <tbody>\n",
       "    <tr>\n",
       "      <th>0</th>\n",
       "      <td>3015</td>\n",
       "      <td>1991</td>\n",
       "      <td>Rogers</td>\n",
       "      <td>City</td>\n",
       "      <td>AR</td>\n",
       "      <td>Arkansas</td>\n",
       "      <td>South</td>\n",
       "      <td>5</td>\n",
       "      <td>Cities from 10,000 thru 24,999</td>\n",
       "      <td>1991-08-31</td>\n",
       "      <td>1</td>\n",
       "      <td>White</td>\n",
       "      <td>1</td>\n",
       "      <td>Intimidation</td>\n",
       "      <td>Highway/Road/Alley/Street/Sidewalk</td>\n",
       "      <td>Anti-Black or African American</td>\n",
       "      <td>Individual</td>\n",
       "      <td>George H.W Bush</td>\n",
       "    </tr>\n",
       "    <tr>\n",
       "      <th>1</th>\n",
       "      <td>3016</td>\n",
       "      <td>1991</td>\n",
       "      <td>Hope</td>\n",
       "      <td>City</td>\n",
       "      <td>AR</td>\n",
       "      <td>Arkansas</td>\n",
       "      <td>South</td>\n",
       "      <td>6</td>\n",
       "      <td>Cities from 2,500 thru 9,999</td>\n",
       "      <td>1991-09-19</td>\n",
       "      <td>1</td>\n",
       "      <td>Black or African American</td>\n",
       "      <td>1</td>\n",
       "      <td>Simple Assault</td>\n",
       "      <td>Highway/Road/Alley/Street/Sidewalk</td>\n",
       "      <td>Anti-White</td>\n",
       "      <td>Individual</td>\n",
       "      <td>George H.W Bush</td>\n",
       "    </tr>\n",
       "    <tr>\n",
       "      <th>2</th>\n",
       "      <td>43</td>\n",
       "      <td>1991</td>\n",
       "      <td>Pine Bluff</td>\n",
       "      <td>City</td>\n",
       "      <td>AR</td>\n",
       "      <td>Arkansas</td>\n",
       "      <td>South</td>\n",
       "      <td>3</td>\n",
       "      <td>Cities from 50,000 thru 99,999</td>\n",
       "      <td>1991-07-04</td>\n",
       "      <td>1</td>\n",
       "      <td>Black or African American</td>\n",
       "      <td>1</td>\n",
       "      <td>Aggravated Assault</td>\n",
       "      <td>Residence/Home</td>\n",
       "      <td>Anti-Black or African American</td>\n",
       "      <td>Individual</td>\n",
       "      <td>George H.W Bush</td>\n",
       "    </tr>\n",
       "    <tr>\n",
       "      <th>3</th>\n",
       "      <td>44</td>\n",
       "      <td>1991</td>\n",
       "      <td>Pine Bluff</td>\n",
       "      <td>City</td>\n",
       "      <td>AR</td>\n",
       "      <td>Arkansas</td>\n",
       "      <td>South</td>\n",
       "      <td>3</td>\n",
       "      <td>Cities from 50,000 thru 99,999</td>\n",
       "      <td>1991-12-24</td>\n",
       "      <td>1</td>\n",
       "      <td>Black or African American</td>\n",
       "      <td>2</td>\n",
       "      <td>Robbery/B&amp;E/Other</td>\n",
       "      <td>Highway/Road/Alley/Street/Sidewalk</td>\n",
       "      <td>Anti-White</td>\n",
       "      <td>Individual</td>\n",
       "      <td>George H.W Bush</td>\n",
       "    </tr>\n",
       "    <tr>\n",
       "      <th>4</th>\n",
       "      <td>3017</td>\n",
       "      <td>1991</td>\n",
       "      <td>Pine Bluff</td>\n",
       "      <td>City</td>\n",
       "      <td>AR</td>\n",
       "      <td>Arkansas</td>\n",
       "      <td>South</td>\n",
       "      <td>3</td>\n",
       "      <td>Cities from 50,000 thru 99,999</td>\n",
       "      <td>1991-12-23</td>\n",
       "      <td>1</td>\n",
       "      <td>Black or African American</td>\n",
       "      <td>1</td>\n",
       "      <td>Aggravated Assault</td>\n",
       "      <td>Service/Gas Station</td>\n",
       "      <td>Anti-White</td>\n",
       "      <td>Individual</td>\n",
       "      <td>George H.W Bush</td>\n",
       "    </tr>\n",
       "  </tbody>\n",
       "</table>\n",
       "</div>"
      ],
      "text/plain": [
       "   incident_id  incident_year pub_agency_name agency_type_name state_abbr  \\\n",
       "0         3015           1991          Rogers             City         AR   \n",
       "1         3016           1991            Hope             City         AR   \n",
       "2           43           1991      Pine Bluff             City         AR   \n",
       "3           44           1991      Pine Bluff             City         AR   \n",
       "4         3017           1991      Pine Bluff             City         AR   \n",
       "\n",
       "  state_name region_name population_group_code  \\\n",
       "0   Arkansas       South                     5   \n",
       "1   Arkansas       South                     6   \n",
       "2   Arkansas       South                     3   \n",
       "3   Arkansas       South                     3   \n",
       "4   Arkansas       South                     3   \n",
       "\n",
       "     population_group_description incident_date  offender_count  \\\n",
       "0  Cities from 10,000 thru 24,999    1991-08-31               1   \n",
       "1    Cities from 2,500 thru 9,999    1991-09-19               1   \n",
       "2  Cities from 50,000 thru 99,999    1991-07-04               1   \n",
       "3  Cities from 50,000 thru 99,999    1991-12-24               1   \n",
       "4  Cities from 50,000 thru 99,999    1991-12-23               1   \n",
       "\n",
       "               offender_race  victim_count        offense_type  \\\n",
       "0                      White             1        Intimidation   \n",
       "1  Black or African American             1      Simple Assault   \n",
       "2  Black or African American             1  Aggravated Assault   \n",
       "3  Black or African American             2   Robbery/B&E/Other   \n",
       "4  Black or African American             1  Aggravated Assault   \n",
       "\n",
       "                        location_type                       prejudice  \\\n",
       "0  Highway/Road/Alley/Street/Sidewalk  Anti-Black or African American   \n",
       "1  Highway/Road/Alley/Street/Sidewalk                      Anti-White   \n",
       "2                      Residence/Home  Anti-Black or African American   \n",
       "3  Highway/Road/Alley/Street/Sidewalk                      Anti-White   \n",
       "4                 Service/Gas Station                      Anti-White   \n",
       "\n",
       "  victim_types   administration  \n",
       "0   Individual  George H.W Bush  \n",
       "1   Individual  George H.W Bush  \n",
       "2   Individual  George H.W Bush  \n",
       "3   Individual  George H.W Bush  \n",
       "4   Individual  George H.W Bush  "
      ]
     },
     "execution_count": 42,
     "metadata": {},
     "output_type": "execute_result"
    }
   ],
   "source": [
    "crime_data['administration'] = crime_data['incident_year'].apply(president_check)\n",
    "crime_data.head()"
   ]
  },
  {
   "attachments": {},
   "cell_type": "markdown",
   "metadata": {},
   "source": [
    "It seems to have worked! Let's now look at the overall amount of hate crimes reported by administration."
   ]
  },
  {
   "cell_type": "code",
   "execution_count": 43,
   "metadata": {},
   "outputs": [
    {
     "data": {
      "text/plain": [
       "10583"
      ]
     },
     "execution_count": 43,
     "metadata": {},
     "output_type": "execute_result"
    }
   ],
   "source": [
    "crime_data[crime_data['administration']=='George H.W Bush']['prejudice'].value_counts().sum()"
   ]
  },
  {
   "cell_type": "code",
   "execution_count": 44,
   "metadata": {},
   "outputs": [
    {
     "data": {
      "text/plain": [
       "57810"
      ]
     },
     "execution_count": 44,
     "metadata": {},
     "output_type": "execute_result"
    }
   ],
   "source": [
    "crime_data[crime_data['administration']=='Bill Clinton']['prejudice'].value_counts().sum()"
   ]
  },
  {
   "cell_type": "code",
   "execution_count": 45,
   "metadata": {},
   "outputs": [
    {
     "data": {
      "text/plain": [
       "57433"
      ]
     },
     "execution_count": 45,
     "metadata": {},
     "output_type": "execute_result"
    }
   ],
   "source": [
    "crime_data[crime_data['administration']=='George W. Bush']['prejudice'].value_counts().sum()"
   ]
  },
  {
   "cell_type": "code",
   "execution_count": 46,
   "metadata": {},
   "outputs": [
    {
     "data": {
      "text/plain": [
       "44004"
      ]
     },
     "execution_count": 46,
     "metadata": {},
     "output_type": "execute_result"
    }
   ],
   "source": [
    "crime_data[crime_data['administration']=='Barack Obama']['prejudice'].value_counts().sum()"
   ]
  },
  {
   "cell_type": "code",
   "execution_count": 47,
   "metadata": {},
   "outputs": [
    {
     "data": {
      "text/plain": [
       "11796"
      ]
     },
     "execution_count": 47,
     "metadata": {},
     "output_type": "execute_result"
    }
   ],
   "source": [
    "crime_data[crime_data['administration']=='Donald J. Trump']['prejudice'].value_counts().sum()"
   ]
  },
  {
   "attachments": {},
   "cell_type": "markdown",
   "metadata": {},
   "source": [
    "From the aforementioned data, it appears that the Bill Clinton Administration had the highest overall number of hate crimes, but by a very slight margin. The George W. Bush Administration was right behind it.\n",
    "\n",
    "This is visualisable using a barplot. In order to organize the data in our dataset by each presidential administration and tally the total number of hate crimes registered during each one, we will first build a new dataframe named by administration."
   ]
  },
  {
   "cell_type": "code",
   "execution_count": 48,
   "metadata": {},
   "outputs": [
    {
     "data": {
      "image/png": "[encoded data removed]",
      "text/plain": [
       "<Figure size 1008x432 with 1 Axes>"
      ]
     },
     "metadata": {},
     "output_type": "display_data"
    }
   ],
   "source": [
    "by_administration = crime_data.groupby('administration').count()\n",
    "\n",
    "#creating our barplot\n",
    "plt.figure(figsize=(14,6))\n",
    "sns.barplot(data=by_administration,x=by_administration.index,y='incident_id',order=['George H.W Bush','Bill Clinton','George W. Bush','Barack Obama','Donald J. Trump'])\n",
    "plt.title(\"Hate Crime Totals per Administration\")\n",
    "plt.xlabel(\"President\")\n",
    "plt.ylabel(\"Total Reported Hate Crimes\")\n",
    "plt.tight_layout()"
   ]
  },
  {
   "attachments": {},
   "cell_type": "markdown",
   "metadata": {},
   "source": [
    "From most to least, the overall number of documented hate crimes per presidential administration is as follows:\n",
    "\n",
    "The Bill Clinton Presidency (57,810 reported incidents)\n",
    "\n",
    "The George W. Bush Presidency (57,433 reported incidents)\n",
    "\n",
    "Obama, Barack (44,004 reported incidents)\n",
    "\n",
    "The administration of Donald J. Trump (11,796 reported incidents)\n",
    "\n",
    "the George H.W. Bush Presidency (10,583 reported incidents)\n",
    "\n",
    "NOTE: This visualization has some restrictions. Data from the first two years of George H.W. Bush's presidency as well as the last two years of Donald J. Trump's administration are not included in our dataset. The information from these two administrations is therefore lacking. Remember to treat the information about these two administrations with caution."
   ]
  },
  {
   "attachments": {},
   "cell_type": "markdown",
   "metadata": {},
   "source": [
    "Now let's move on to our fifth and final question;"
   ]
  },
  {
   "attachments": {},
   "cell_type": "markdown",
   "metadata": {},
   "source": [
    "# Question 5: Which states--if any--had the highest amount of total hate crimes committed?"
   ]
  },
  {
   "attachments": {},
   "cell_type": "markdown",
   "metadata": {},
   "source": [
    "By looking up the names of the states with the highest recorded total of hate crimes, we can quickly find the answer to this query.\n",
    "\n",
    "Let's create a new dataframe first that counts all the reported hate crimes for each state while grouping the dataframe by state."
   ]
  },
  {
   "cell_type": "code",
   "execution_count": 49,
   "metadata": {},
   "outputs": [
    {
     "data": {
      "text/html": [
       "<div>\n",
       "<style scoped>\n",
       "    .dataframe tbody tr th:only-of-type {\n",
       "        vertical-align: middle;\n",
       "    }\n",
       "\n",
       "    .dataframe tbody tr th {\n",
       "        vertical-align: top;\n",
       "    }\n",
       "\n",
       "    .dataframe thead th {\n",
       "        text-align: right;\n",
       "    }\n",
       "</style>\n",
       "<table border=\"1\" class=\"dataframe\">\n",
       "  <thead>\n",
       "    <tr style=\"text-align: right;\">\n",
       "      <th></th>\n",
       "      <th>incident_id</th>\n",
       "      <th>incident_year</th>\n",
       "      <th>pub_agency_name</th>\n",
       "      <th>agency_type_name</th>\n",
       "      <th>state_name</th>\n",
       "      <th>region_name</th>\n",
       "      <th>population_group_code</th>\n",
       "      <th>population_group_description</th>\n",
       "      <th>incident_date</th>\n",
       "      <th>offender_count</th>\n",
       "      <th>offender_race</th>\n",
       "      <th>victim_count</th>\n",
       "      <th>offense_type</th>\n",
       "      <th>location_type</th>\n",
       "      <th>prejudice</th>\n",
       "      <th>victim_types</th>\n",
       "      <th>administration</th>\n",
       "    </tr>\n",
       "    <tr>\n",
       "      <th>state_abbr</th>\n",
       "      <th></th>\n",
       "      <th></th>\n",
       "      <th></th>\n",
       "      <th></th>\n",
       "      <th></th>\n",
       "      <th></th>\n",
       "      <th></th>\n",
       "      <th></th>\n",
       "      <th></th>\n",
       "      <th></th>\n",
       "      <th></th>\n",
       "      <th></th>\n",
       "      <th></th>\n",
       "      <th></th>\n",
       "      <th></th>\n",
       "      <th></th>\n",
       "      <th></th>\n",
       "    </tr>\n",
       "  </thead>\n",
       "  <tbody>\n",
       "    <tr>\n",
       "      <th>AK</th>\n",
       "      <td>156</td>\n",
       "      <td>156</td>\n",
       "      <td>156</td>\n",
       "      <td>156</td>\n",
       "      <td>156</td>\n",
       "      <td>156</td>\n",
       "      <td>156</td>\n",
       "      <td>156</td>\n",
       "      <td>156</td>\n",
       "      <td>156</td>\n",
       "      <td>156</td>\n",
       "      <td>156</td>\n",
       "      <td>156</td>\n",
       "      <td>156</td>\n",
       "      <td>156</td>\n",
       "      <td>156</td>\n",
       "      <td>156</td>\n",
       "    </tr>\n",
       "    <tr>\n",
       "      <th>AL</th>\n",
       "      <td>182</td>\n",
       "      <td>182</td>\n",
       "      <td>182</td>\n",
       "      <td>182</td>\n",
       "      <td>182</td>\n",
       "      <td>182</td>\n",
       "      <td>182</td>\n",
       "      <td>182</td>\n",
       "      <td>182</td>\n",
       "      <td>182</td>\n",
       "      <td>182</td>\n",
       "      <td>182</td>\n",
       "      <td>182</td>\n",
       "      <td>182</td>\n",
       "      <td>182</td>\n",
       "      <td>182</td>\n",
       "      <td>182</td>\n",
       "    </tr>\n",
       "    <tr>\n",
       "      <th>AR</th>\n",
       "      <td>913</td>\n",
       "      <td>913</td>\n",
       "      <td>913</td>\n",
       "      <td>913</td>\n",
       "      <td>913</td>\n",
       "      <td>913</td>\n",
       "      <td>913</td>\n",
       "      <td>913</td>\n",
       "      <td>913</td>\n",
       "      <td>913</td>\n",
       "      <td>913</td>\n",
       "      <td>913</td>\n",
       "      <td>913</td>\n",
       "      <td>913</td>\n",
       "      <td>913</td>\n",
       "      <td>913</td>\n",
       "      <td>913</td>\n",
       "    </tr>\n",
       "    <tr>\n",
       "      <th>AZ</th>\n",
       "      <td>5530</td>\n",
       "      <td>5530</td>\n",
       "      <td>5530</td>\n",
       "      <td>5530</td>\n",
       "      <td>5530</td>\n",
       "      <td>5530</td>\n",
       "      <td>5530</td>\n",
       "      <td>5530</td>\n",
       "      <td>5530</td>\n",
       "      <td>5530</td>\n",
       "      <td>5530</td>\n",
       "      <td>5530</td>\n",
       "      <td>5530</td>\n",
       "      <td>5530</td>\n",
       "      <td>5530</td>\n",
       "      <td>5530</td>\n",
       "      <td>5530</td>\n",
       "    </tr>\n",
       "    <tr>\n",
       "      <th>CA</th>\n",
       "      <td>31040</td>\n",
       "      <td>31040</td>\n",
       "      <td>31040</td>\n",
       "      <td>31040</td>\n",
       "      <td>31040</td>\n",
       "      <td>31040</td>\n",
       "      <td>31040</td>\n",
       "      <td>31040</td>\n",
       "      <td>31040</td>\n",
       "      <td>31040</td>\n",
       "      <td>31040</td>\n",
       "      <td>31040</td>\n",
       "      <td>31040</td>\n",
       "      <td>31040</td>\n",
       "      <td>31040</td>\n",
       "      <td>31040</td>\n",
       "      <td>31040</td>\n",
       "    </tr>\n",
       "  </tbody>\n",
       "</table>\n",
       "</div>"
      ],
      "text/plain": [
       "            incident_id  incident_year  pub_agency_name  agency_type_name  \\\n",
       "state_abbr                                                                  \n",
       "AK                  156            156              156               156   \n",
       "AL                  182            182              182               182   \n",
       "AR                  913            913              913               913   \n",
       "AZ                 5530           5530             5530              5530   \n",
       "CA                31040          31040            31040             31040   \n",
       "\n",
       "            state_name  region_name  population_group_code  \\\n",
       "state_abbr                                                   \n",
       "AK                 156          156                    156   \n",
       "AL                 182          182                    182   \n",
       "AR                 913          913                    913   \n",
       "AZ                5530         5530                   5530   \n",
       "CA               31040        31040                  31040   \n",
       "\n",
       "            population_group_description  incident_date  offender_count  \\\n",
       "state_abbr                                                                \n",
       "AK                                   156            156             156   \n",
       "AL                                   182            182             182   \n",
       "AR                                   913            913             913   \n",
       "AZ                                  5530           5530            5530   \n",
       "CA                                 31040          31040           31040   \n",
       "\n",
       "            offender_race  victim_count  offense_type  location_type  \\\n",
       "state_abbr                                                             \n",
       "AK                    156           156           156            156   \n",
       "AL                    182           182           182            182   \n",
       "AR                    913           913           913            913   \n",
       "AZ                   5530          5530          5530           5530   \n",
       "CA                  31040         31040         31040          31040   \n",
       "\n",
       "            prejudice  victim_types  administration  \n",
       "state_abbr                                           \n",
       "AK                156           156             156  \n",
       "AL                182           182             182  \n",
       "AR                913           913             913  \n",
       "AZ               5530          5530            5530  \n",
       "CA              31040         31040           31040  "
      ]
     },
     "execution_count": 49,
     "metadata": {},
     "output_type": "execute_result"
    }
   ],
   "source": [
    "by_state = crime_data.groupby('state_abbr').count()\n",
    "\n",
    "by_state.head()"
   ]
  },
  {
   "attachments": {},
   "cell_type": "markdown",
   "metadata": {},
   "source": [
    "Let's now look at the states with the most reports of hate crimes. The top ten will be taken."
   ]
  },
  {
   "cell_type": "code",
   "execution_count": 50,
   "metadata": {},
   "outputs": [
    {
     "data": {
      "text/plain": [
       "state_abbr\n",
       "CA    31040\n",
       "NY    17794\n",
       "NJ    17503\n",
       "MI    10191\n",
       "MA     9634\n",
       "OH     7101\n",
       "TX     6862\n",
       "WA     6436\n",
       "AZ     5530\n",
       "MD     5107\n",
       "Name: incident_id, dtype: int64"
      ]
     },
     "execution_count": 50,
     "metadata": {},
     "output_type": "execute_result"
    }
   ],
   "source": [
    "by_state['incident_id'].nlargest(10)"
   ]
  },
  {
   "attachments": {},
   "cell_type": "markdown",
   "metadata": {},
   "source": [
    "Visualize this data as well as the data from the other 40 states. To do this, we'll use a Choropleth map, a specific type of Python map for showing spatial data.\n",
    "\n",
    "One tiny adjustment to our dataset is required before we can proceed. Use of 'NE' as the abbreviation for Nebraska as the abbreviation for Nebraska is not recognized, which is 'NB'. As a result, we must rebuild our by state dataframe and give the state abbr column a new name, replacing all instances of \"NB\" with \"NE.\"\n",
    "\n",
    "This will be accomplished using the special function nb check, defined below."
   ]
  },
  {
   "cell_type": "code",
   "execution_count": 51,
   "metadata": {},
   "outputs": [],
   "source": [
    "def nb_check(abbr):\n",
    "    if abbr == 'NB':\n",
    "        return 'NE'\n",
    "    else:\n",
    "        return abbr"
   ]
  },
  {
   "attachments": {},
   "cell_type": "markdown",
   "metadata": {},
   "source": [
    "Let's update our by state dataframe now and use the nb check function on its state abbr column."
   ]
  },
  {
   "cell_type": "code",
   "execution_count": 52,
   "metadata": {},
   "outputs": [
    {
     "name": "stderr",
     "output_type": "stream",
     "text": [
      "/tmp/ipykernel_20109/2353229020.py:2: SettingWithCopyWarning:\n",
      "\n",
      "\n",
      "A value is trying to be set on a copy of a slice from a DataFrame.\n",
      "Try using .loc[row_indexer,col_indexer] = value instead\n",
      "\n",
      "See the caveats in the documentation: https://pandas.pydata.org/pandas-docs/stable/user_guide/indexing.html#returning-a-view-versus-a-copy\n",
      "\n"
     ]
    }
   ],
   "source": [
    "by_state = crime_data\n",
    "by_state['state_abbr'] = by_state['state_abbr'].apply(nb_check)"
   ]
  },
  {
   "attachments": {},
   "cell_type": "markdown",
   "metadata": {},
   "source": [
    "Checking to see if our changes went through."
   ]
  },
  {
   "cell_type": "code",
   "execution_count": 53,
   "metadata": {},
   "outputs": [
    {
     "data": {
      "text/html": [
       "<div>\n",
       "<style scoped>\n",
       "    .dataframe tbody tr th:only-of-type {\n",
       "        vertical-align: middle;\n",
       "    }\n",
       "\n",
       "    .dataframe tbody tr th {\n",
       "        vertical-align: top;\n",
       "    }\n",
       "\n",
       "    .dataframe thead th {\n",
       "        text-align: right;\n",
       "    }\n",
       "</style>\n",
       "<table border=\"1\" class=\"dataframe\">\n",
       "  <thead>\n",
       "    <tr style=\"text-align: right;\">\n",
       "      <th></th>\n",
       "      <th>incident_id</th>\n",
       "      <th>incident_year</th>\n",
       "      <th>pub_agency_name</th>\n",
       "      <th>agency_type_name</th>\n",
       "      <th>state_abbr</th>\n",
       "      <th>state_name</th>\n",
       "      <th>region_name</th>\n",
       "      <th>population_group_code</th>\n",
       "      <th>population_group_description</th>\n",
       "      <th>incident_date</th>\n",
       "      <th>offender_count</th>\n",
       "      <th>offender_race</th>\n",
       "      <th>victim_count</th>\n",
       "      <th>offense_type</th>\n",
       "      <th>location_type</th>\n",
       "      <th>prejudice</th>\n",
       "      <th>victim_types</th>\n",
       "      <th>administration</th>\n",
       "    </tr>\n",
       "  </thead>\n",
       "  <tbody>\n",
       "    <tr>\n",
       "      <th>38113</th>\n",
       "      <td>35759</td>\n",
       "      <td>1996</td>\n",
       "      <td>Buffalo</td>\n",
       "      <td>County</td>\n",
       "      <td>NE</td>\n",
       "      <td>Nebraska</td>\n",
       "      <td>Midwest</td>\n",
       "      <td>8C</td>\n",
       "      <td>Non-MSA counties from 10,000 thru 24,999</td>\n",
       "      <td>1996-04-04</td>\n",
       "      <td>1</td>\n",
       "      <td>White</td>\n",
       "      <td>1</td>\n",
       "      <td>Simple Assault</td>\n",
       "      <td>Service/Gas Station</td>\n",
       "      <td>Anti-Hispanic or Latino</td>\n",
       "      <td>Individual</td>\n",
       "      <td>Bill Clinton</td>\n",
       "    </tr>\n",
       "    <tr>\n",
       "      <th>38114</th>\n",
       "      <td>35760</td>\n",
       "      <td>1996</td>\n",
       "      <td>Norfolk</td>\n",
       "      <td>City</td>\n",
       "      <td>NE</td>\n",
       "      <td>Nebraska</td>\n",
       "      <td>Midwest</td>\n",
       "      <td>5</td>\n",
       "      <td>Cities from 10,000 thru 24,999</td>\n",
       "      <td>1996-07-19</td>\n",
       "      <td>1</td>\n",
       "      <td>Black or African American</td>\n",
       "      <td>1</td>\n",
       "      <td>Aggravated Assault</td>\n",
       "      <td>Residence/Home</td>\n",
       "      <td>Anti-Black or African American</td>\n",
       "      <td>Individual</td>\n",
       "      <td>Bill Clinton</td>\n",
       "    </tr>\n",
       "    <tr>\n",
       "      <th>38115</th>\n",
       "      <td>35761</td>\n",
       "      <td>1996</td>\n",
       "      <td>Norfolk</td>\n",
       "      <td>City</td>\n",
       "      <td>NE</td>\n",
       "      <td>Nebraska</td>\n",
       "      <td>Midwest</td>\n",
       "      <td>5</td>\n",
       "      <td>Cities from 10,000 thru 24,999</td>\n",
       "      <td>1996-07-21</td>\n",
       "      <td>1</td>\n",
       "      <td>Black or African American</td>\n",
       "      <td>1</td>\n",
       "      <td>Aggravated Assault</td>\n",
       "      <td>Highway/Road/Alley/Street/Sidewalk</td>\n",
       "      <td>Anti-Black or African American</td>\n",
       "      <td>Individual</td>\n",
       "      <td>Bill Clinton</td>\n",
       "    </tr>\n",
       "    <tr>\n",
       "      <th>46476</th>\n",
       "      <td>44355</td>\n",
       "      <td>1997</td>\n",
       "      <td>Kearney</td>\n",
       "      <td>City</td>\n",
       "      <td>NE</td>\n",
       "      <td>Nebraska</td>\n",
       "      <td>Midwest</td>\n",
       "      <td>4</td>\n",
       "      <td>Cities from 25,000 thru 49,999</td>\n",
       "      <td>1997-07-10</td>\n",
       "      <td>0</td>\n",
       "      <td>Unknown</td>\n",
       "      <td>1</td>\n",
       "      <td>Destruction/Damage/Vandalism of Property</td>\n",
       "      <td>Highway/Road/Alley/Street/Sidewalk</td>\n",
       "      <td>Anti-Jewish</td>\n",
       "      <td>Individual</td>\n",
       "      <td>Bill Clinton</td>\n",
       "    </tr>\n",
       "    <tr>\n",
       "      <th>46477</th>\n",
       "      <td>44356</td>\n",
       "      <td>1997</td>\n",
       "      <td>Kearney</td>\n",
       "      <td>City</td>\n",
       "      <td>NE</td>\n",
       "      <td>Nebraska</td>\n",
       "      <td>Midwest</td>\n",
       "      <td>4</td>\n",
       "      <td>Cities from 25,000 thru 49,999</td>\n",
       "      <td>1997-10-05</td>\n",
       "      <td>4</td>\n",
       "      <td>White</td>\n",
       "      <td>4</td>\n",
       "      <td>Aggravated Assault</td>\n",
       "      <td>Highway/Road/Alley/Street/Sidewalk</td>\n",
       "      <td>Anti-Other Race/Ethnicity/Ancestry</td>\n",
       "      <td>Individual</td>\n",
       "      <td>Bill Clinton</td>\n",
       "    </tr>\n",
       "    <tr>\n",
       "      <th>...</th>\n",
       "      <td>...</td>\n",
       "      <td>...</td>\n",
       "      <td>...</td>\n",
       "      <td>...</td>\n",
       "      <td>...</td>\n",
       "      <td>...</td>\n",
       "      <td>...</td>\n",
       "      <td>...</td>\n",
       "      <td>...</td>\n",
       "      <td>...</td>\n",
       "      <td>...</td>\n",
       "      <td>...</td>\n",
       "      <td>...</td>\n",
       "      <td>...</td>\n",
       "      <td>...</td>\n",
       "      <td>...</td>\n",
       "      <td>...</td>\n",
       "      <td>...</td>\n",
       "    </tr>\n",
       "    <tr>\n",
       "      <th>197865</th>\n",
       "      <td>476870</td>\n",
       "      <td>2018</td>\n",
       "      <td>Red Willow</td>\n",
       "      <td>County</td>\n",
       "      <td>NE</td>\n",
       "      <td>Nebraska</td>\n",
       "      <td>Midwest</td>\n",
       "      <td>8D</td>\n",
       "      <td>Non-MSA counties under 10,000</td>\n",
       "      <td>2018-08-23</td>\n",
       "      <td>0</td>\n",
       "      <td>Unknown</td>\n",
       "      <td>2</td>\n",
       "      <td>Robbery/B&amp;E/Other</td>\n",
       "      <td>Field/Woods</td>\n",
       "      <td>Anti-White</td>\n",
       "      <td>Individual;Society/Public</td>\n",
       "      <td>Donald J. Trump</td>\n",
       "    </tr>\n",
       "    <tr>\n",
       "      <th>197866</th>\n",
       "      <td>476883</td>\n",
       "      <td>2018</td>\n",
       "      <td>Red Willow</td>\n",
       "      <td>County</td>\n",
       "      <td>NE</td>\n",
       "      <td>Nebraska</td>\n",
       "      <td>Midwest</td>\n",
       "      <td>8D</td>\n",
       "      <td>Non-MSA counties under 10,000</td>\n",
       "      <td>2018-08-08</td>\n",
       "      <td>0</td>\n",
       "      <td>Unknown</td>\n",
       "      <td>1</td>\n",
       "      <td>Robbery/B&amp;E/Other</td>\n",
       "      <td>Residence/Home</td>\n",
       "      <td>Anti-White</td>\n",
       "      <td>Society/Public</td>\n",
       "      <td>Donald J. Trump</td>\n",
       "    </tr>\n",
       "    <tr>\n",
       "      <th>197867</th>\n",
       "      <td>476901</td>\n",
       "      <td>2018</td>\n",
       "      <td>Red Willow</td>\n",
       "      <td>County</td>\n",
       "      <td>NE</td>\n",
       "      <td>Nebraska</td>\n",
       "      <td>Midwest</td>\n",
       "      <td>8D</td>\n",
       "      <td>Non-MSA counties under 10,000</td>\n",
       "      <td>2018-12-03</td>\n",
       "      <td>0</td>\n",
       "      <td>Unknown</td>\n",
       "      <td>1</td>\n",
       "      <td>Destruction/Damage/Vandalism of Property</td>\n",
       "      <td>Field/Woods</td>\n",
       "      <td>Anti-White</td>\n",
       "      <td>Individual</td>\n",
       "      <td>Donald J. Trump</td>\n",
       "    </tr>\n",
       "    <tr>\n",
       "      <th>197868</th>\n",
       "      <td>551591</td>\n",
       "      <td>2018</td>\n",
       "      <td>Red Willow</td>\n",
       "      <td>County</td>\n",
       "      <td>NE</td>\n",
       "      <td>Nebraska</td>\n",
       "      <td>Midwest</td>\n",
       "      <td>8D</td>\n",
       "      <td>Non-MSA counties under 10,000</td>\n",
       "      <td>2018-04-20</td>\n",
       "      <td>0</td>\n",
       "      <td>Unknown</td>\n",
       "      <td>2</td>\n",
       "      <td>Robbery/B&amp;E/Other</td>\n",
       "      <td>Residence/Home</td>\n",
       "      <td>Anti-White</td>\n",
       "      <td>Individual</td>\n",
       "      <td>Donald J. Trump</td>\n",
       "    </tr>\n",
       "    <tr>\n",
       "      <th>197872</th>\n",
       "      <td>357301</td>\n",
       "      <td>2018</td>\n",
       "      <td>Thurston</td>\n",
       "      <td>County</td>\n",
       "      <td>NE</td>\n",
       "      <td>Nebraska</td>\n",
       "      <td>Midwest</td>\n",
       "      <td>8D</td>\n",
       "      <td>Non-MSA counties under 10,000</td>\n",
       "      <td>2018-04-29</td>\n",
       "      <td>0</td>\n",
       "      <td>Unknown</td>\n",
       "      <td>1</td>\n",
       "      <td>Simple Assault</td>\n",
       "      <td>Residence/Home</td>\n",
       "      <td>Anti-White</td>\n",
       "      <td>Individual</td>\n",
       "      <td>Donald J. Trump</td>\n",
       "    </tr>\n",
       "  </tbody>\n",
       "</table>\n",
       "<p>884 rows × 18 columns</p>\n",
       "</div>"
      ],
      "text/plain": [
       "        incident_id  incident_year pub_agency_name agency_type_name  \\\n",
       "38113         35759           1996         Buffalo           County   \n",
       "38114         35760           1996         Norfolk             City   \n",
       "38115         35761           1996         Norfolk             City   \n",
       "46476         44355           1997         Kearney             City   \n",
       "46477         44356           1997         Kearney             City   \n",
       "...             ...            ...             ...              ...   \n",
       "197865       476870           2018      Red Willow           County   \n",
       "197866       476883           2018      Red Willow           County   \n",
       "197867       476901           2018      Red Willow           County   \n",
       "197868       551591           2018      Red Willow           County   \n",
       "197872       357301           2018        Thurston           County   \n",
       "\n",
       "       state_abbr state_name region_name population_group_code  \\\n",
       "38113          NE   Nebraska     Midwest                    8C   \n",
       "38114          NE   Nebraska     Midwest                     5   \n",
       "38115          NE   Nebraska     Midwest                     5   \n",
       "46476          NE   Nebraska     Midwest                     4   \n",
       "46477          NE   Nebraska     Midwest                     4   \n",
       "...           ...        ...         ...                   ...   \n",
       "197865         NE   Nebraska     Midwest                    8D   \n",
       "197866         NE   Nebraska     Midwest                    8D   \n",
       "197867         NE   Nebraska     Midwest                    8D   \n",
       "197868         NE   Nebraska     Midwest                    8D   \n",
       "197872         NE   Nebraska     Midwest                    8D   \n",
       "\n",
       "                    population_group_description incident_date  \\\n",
       "38113   Non-MSA counties from 10,000 thru 24,999    1996-04-04   \n",
       "38114             Cities from 10,000 thru 24,999    1996-07-19   \n",
       "38115             Cities from 10,000 thru 24,999    1996-07-21   \n",
       "46476             Cities from 25,000 thru 49,999    1997-07-10   \n",
       "46477             Cities from 25,000 thru 49,999    1997-10-05   \n",
       "...                                          ...           ...   \n",
       "197865             Non-MSA counties under 10,000    2018-08-23   \n",
       "197866             Non-MSA counties under 10,000    2018-08-08   \n",
       "197867             Non-MSA counties under 10,000    2018-12-03   \n",
       "197868             Non-MSA counties under 10,000    2018-04-20   \n",
       "197872             Non-MSA counties under 10,000    2018-04-29   \n",
       "\n",
       "        offender_count              offender_race  victim_count  \\\n",
       "38113                1                      White             1   \n",
       "38114                1  Black or African American             1   \n",
       "38115                1  Black or African American             1   \n",
       "46476                0                    Unknown             1   \n",
       "46477                4                      White             4   \n",
       "...                ...                        ...           ...   \n",
       "197865               0                    Unknown             2   \n",
       "197866               0                    Unknown             1   \n",
       "197867               0                    Unknown             1   \n",
       "197868               0                    Unknown             2   \n",
       "197872               0                    Unknown             1   \n",
       "\n",
       "                                    offense_type  \\\n",
       "38113                             Simple Assault   \n",
       "38114                         Aggravated Assault   \n",
       "38115                         Aggravated Assault   \n",
       "46476   Destruction/Damage/Vandalism of Property   \n",
       "46477                         Aggravated Assault   \n",
       "...                                          ...   \n",
       "197865                         Robbery/B&E/Other   \n",
       "197866                         Robbery/B&E/Other   \n",
       "197867  Destruction/Damage/Vandalism of Property   \n",
       "197868                         Robbery/B&E/Other   \n",
       "197872                            Simple Assault   \n",
       "\n",
       "                             location_type  \\\n",
       "38113                  Service/Gas Station   \n",
       "38114                       Residence/Home   \n",
       "38115   Highway/Road/Alley/Street/Sidewalk   \n",
       "46476   Highway/Road/Alley/Street/Sidewalk   \n",
       "46477   Highway/Road/Alley/Street/Sidewalk   \n",
       "...                                    ...   \n",
       "197865                         Field/Woods   \n",
       "197866                      Residence/Home   \n",
       "197867                         Field/Woods   \n",
       "197868                      Residence/Home   \n",
       "197872                      Residence/Home   \n",
       "\n",
       "                                 prejudice               victim_types  \\\n",
       "38113              Anti-Hispanic or Latino                 Individual   \n",
       "38114       Anti-Black or African American                 Individual   \n",
       "38115       Anti-Black or African American                 Individual   \n",
       "46476                          Anti-Jewish                 Individual   \n",
       "46477   Anti-Other Race/Ethnicity/Ancestry                 Individual   \n",
       "...                                    ...                        ...   \n",
       "197865                          Anti-White  Individual;Society/Public   \n",
       "197866                          Anti-White             Society/Public   \n",
       "197867                          Anti-White                 Individual   \n",
       "197868                          Anti-White                 Individual   \n",
       "197872                          Anti-White                 Individual   \n",
       "\n",
       "         administration  \n",
       "38113      Bill Clinton  \n",
       "38114      Bill Clinton  \n",
       "38115      Bill Clinton  \n",
       "46476      Bill Clinton  \n",
       "46477      Bill Clinton  \n",
       "...                 ...  \n",
       "197865  Donald J. Trump  \n",
       "197866  Donald J. Trump  \n",
       "197867  Donald J. Trump  \n",
       "197868  Donald J. Trump  \n",
       "197872  Donald J. Trump  \n",
       "\n",
       "[884 rows x 18 columns]"
      ]
     },
     "execution_count": 53,
     "metadata": {},
     "output_type": "execute_result"
    }
   ],
   "source": [
    "by_state[by_state['state_abbr']=='NE']"
   ]
  },
  {
   "attachments": {},
   "cell_type": "markdown",
   "metadata": {},
   "source": [
    "Now let's group all the states together and start building out our map."
   ]
  },
  {
   "cell_type": "code",
   "execution_count": 54,
   "metadata": {},
   "outputs": [],
   "source": [
    "#Grouping our data together by state abbreviation code\n",
    "by_state = by_state.groupby('state_abbr').count()"
   ]
  },
  {
   "cell_type": "code",
   "execution_count": 55,
   "metadata": {},
   "outputs": [],
   "source": [
    "#Defining the data to be used by our choropleth map\n",
    "\n",
    "data = dict(type = 'choropleth',\n",
    "            colorscale='RdBu'+'_r',\n",
    "           locations = by_state.index,\n",
    "            locationmode = 'USA-states',\n",
    "           z = by_state['incident_id'],\n",
    "            text = 'Total Hate Crimes Reported',\n",
    "           colorbar = {'title':'Total Reported Hate Crimes'})"
   ]
  },
  {
   "cell_type": "code",
   "execution_count": 56,
   "metadata": {},
   "outputs": [],
   "source": [
    "# Defining the layout\n",
    "layout = dict(title = 'USA Hate Crimes by State (1991-2018)',\n",
    "              geo = dict(scope='usa',showlakes = True,lakecolor='rgb(85,173,240)'))\n",
    "\n",
    "choromap3 = go.Figure(data=[data],layout=layout)"
   ]
  },
  {
   "cell_type": "code",
   "execution_count": 57,
   "metadata": {},
   "outputs": [
    {
     "data": {
      "application/vnd.plotly.v1+json": {
       "config": {
        "linkText": "Export to plot.ly",
        "plotlyServerURL": "https://plot.ly",
        "showLink": false
       },
       "data": [
        {
         "colorbar": {
          "title": {
           "text": "Total Reported Hate Crimes"
          }
         },
         "colorscale": [
          [
           0,
           "rgb(5,48,97)"
          ],
          [
           0.1,
           "rgb(33,102,172)"
          ],
          [
           0.2,
           "rgb(67,147,195)"
          ],
          [
           0.3,
           "rgb(146,197,222)"
          ],
          [
           0.4,
           "rgb(209,229,240)"
          ],
          [
           0.5,
           "rgb(247,247,247)"
          ],
          [
           0.6,
           "rgb(253,219,199)"
          ],
          [
           0.7,
           "rgb(244,165,130)"
          ],
          [
           0.8,
           "rgb(214,96,77)"
          ],
          [
           0.9,
           "rgb(178,24,43)"
          ],
          [
           1,
           "rgb(103,0,31)"
          ]
         ],
         "locationmode": "USA-states",
         "locations": [
          "AK",
          "AL",
          "AR",
          "AZ",
          "CA",
          "CO",
          "CT",
          "DC",
          "DE",
          "FL",
          "FS",
          "GA",
          "GM",
          "HI",
          "IA",
          "ID",
          "IL",
          "IN",
          "KS",
          "KY",
          "LA",
          "MA",
          "MD",
          "ME",
          "MI",
          "MN",
          "MO",
          "MS",
          "MT",
          "NC",
          "ND",
          "NE",
          "NH",
          "NJ",
          "NM",
          "NV",
          "NY",
          "OH",
          "OK",
          "OR",
          "PA",
          "RI",
          "SC",
          "SD",
          "TN",
          "TX",
          "UT",
          "VA",
          "VT",
          "WA",
          "WI",
          "WV",
          "WY"
         ],
         "text": "Total Hate Crimes Reported",
         "type": "choropleth",
         "z": [
          156,
          182,
          913,
          5530,
          31040,
          3389,
          3136,
          1184,
          834,
          4657,
          18,
          867,
          4,
          42,
          785,
          948,
          4981,
          1663,
          1470,
          2374,
          404,
          9634,
          5107,
          1133,
          10191,
          4081,
          2815,
          98,
          442,
          1995,
          272,
          884,
          556,
          17503,
          409,
          1515,
          17794,
          7101,
          1188,
          3570,
          3214,
          767,
          1531,
          394,
          3342,
          6862,
          1181,
          4479,
          396,
          6436,
          1234,
          788,
          137
         ]
        }
       ],
       "layout": {
        "geo": {
         "lakecolor": "rgb(85,173,240)",
         "scope": "usa",
         "showlakes": true
        },
        "template": {
         "data": {
          "bar": [
           {
            "error_x": {
             "color": "#2a3f5f"
            },
            "error_y": {
             "color": "#2a3f5f"
            },
            "marker": {
             "line": {
              "color": "#E5ECF6",
              "width": 0.5
             },
             "pattern": {
              "fillmode": "overlay",
              "size": 10,
              "solidity": 0.2
             }
            },
            "type": "bar"
           }
          ],
          "barpolar": [
           {
            "marker": {
             "line": {
              "color": "#E5ECF6",
              "width": 0.5
             },
             "pattern": {
              "fillmode": "overlay",
              "size": 10,
              "solidity": 0.2
             }
            },
            "type": "barpolar"
           }
          ],
          "carpet": [
           {
            "aaxis": {
             "endlinecolor": "#2a3f5f",
             "gridcolor": "white",
             "linecolor": "white",
             "minorgridcolor": "white",
             "startlinecolor": "#2a3f5f"
            },
            "baxis": {
             "endlinecolor": "#2a3f5f",
             "gridcolor": "white",
             "linecolor": "white",
             "minorgridcolor": "white",
             "startlinecolor": "#2a3f5f"
            },
            "type": "carpet"
           }
          ],
          "choropleth": [
           {
            "colorbar": {
             "outlinewidth": 0,
             "ticks": ""
            },
            "type": "choropleth"
           }
          ],
          "contour": [
           {
            "colorbar": {
             "outlinewidth": 0,
             "ticks": ""
            },
            "colorscale": [
             [
              0,
              "#0d0887"
             ],
             [
              0.1111111111111111,
              "#46039f"
             ],
             [
              0.2222222222222222,
              "#7201a8"
             ],
             [
              0.3333333333333333,
              "#9c179e"
             ],
             [
              0.4444444444444444,
              "#bd3786"
             ],
             [
              0.5555555555555556,
              "#d8576b"
             ],
             [
              0.6666666666666666,
              "#ed7953"
             ],
             [
              0.7777777777777778,
              "#fb9f3a"
             ],
             [
              0.8888888888888888,
              "#fdca26"
             ],
             [
              1,
              "#f0f921"
             ]
            ],
            "type": "contour"
           }
          ],
          "contourcarpet": [
           {
            "colorbar": {
             "outlinewidth": 0,
             "ticks": ""
            },
            "type": "contourcarpet"
           }
          ],
          "heatmap": [
           {
            "colorbar": {
             "outlinewidth": 0,
             "ticks": ""
            },
            "colorscale": [
             [
              0,
              "#0d0887"
             ],
             [
              0.1111111111111111,
              "#46039f"
             ],
             [
              0.2222222222222222,
              "#7201a8"
             ],
             [
              0.3333333333333333,
              "#9c179e"
             ],
             [
              0.4444444444444444,
              "#bd3786"
             ],
             [
              0.5555555555555556,
              "#d8576b"
             ],
             [
              0.6666666666666666,
              "#ed7953"
             ],
             [
              0.7777777777777778,
              "#fb9f3a"
             ],
             [
              0.8888888888888888,
              "#fdca26"
             ],
             [
              1,
              "#f0f921"
             ]
            ],
            "type": "heatmap"
           }
          ],
          "heatmapgl": [
           {
            "colorbar": {
             "outlinewidth": 0,
             "ticks": ""
            },
            "colorscale": [
             [
              0,
              "#0d0887"
             ],
             [
              0.1111111111111111,
              "#46039f"
             ],
             [
              0.2222222222222222,
              "#7201a8"
             ],
             [
              0.3333333333333333,
              "#9c179e"
             ],
             [
              0.4444444444444444,
              "#bd3786"
             ],
             [
              0.5555555555555556,
              "#d8576b"
             ],
             [
              0.6666666666666666,
              "#ed7953"
             ],
             [
              0.7777777777777778,
              "#fb9f3a"
             ],
             [
              0.8888888888888888,
              "#fdca26"
             ],
             [
              1,
              "#f0f921"
             ]
            ],
            "type": "heatmapgl"
           }
          ],
          "histogram": [
           {
            "marker": {
             "pattern": {
              "fillmode": "overlay",
              "size": 10,
              "solidity": 0.2
             }
            },
            "type": "histogram"
           }
          ],
          "histogram2d": [
           {
            "colorbar": {
             "outlinewidth": 0,
             "ticks": ""
            },
            "colorscale": [
             [
              0,
              "#0d0887"
             ],
             [
              0.1111111111111111,
              "#46039f"
             ],
             [
              0.2222222222222222,
              "#7201a8"
             ],
             [
              0.3333333333333333,
              "#9c179e"
             ],
             [
              0.4444444444444444,
              "#bd3786"
             ],
             [
              0.5555555555555556,
              "#d8576b"
             ],
             [
              0.6666666666666666,
              "#ed7953"
             ],
             [
              0.7777777777777778,
              "#fb9f3a"
             ],
             [
              0.8888888888888888,
              "#fdca26"
             ],
             [
              1,
              "#f0f921"
             ]
            ],
            "type": "histogram2d"
           }
          ],
          "histogram2dcontour": [
           {
            "colorbar": {
             "outlinewidth": 0,
             "ticks": ""
            },
            "colorscale": [
             [
              0,
              "#0d0887"
             ],
             [
              0.1111111111111111,
              "#46039f"
             ],
             [
              0.2222222222222222,
              "#7201a8"
             ],
             [
              0.3333333333333333,
              "#9c179e"
             ],
             [
              0.4444444444444444,
              "#bd3786"
             ],
             [
              0.5555555555555556,
              "#d8576b"
             ],
             [
              0.6666666666666666,
              "#ed7953"
             ],
             [
              0.7777777777777778,
              "#fb9f3a"
             ],
             [
              0.8888888888888888,
              "#fdca26"
             ],
             [
              1,
              "#f0f921"
             ]
            ],
            "type": "histogram2dcontour"
           }
          ],
          "mesh3d": [
           {
            "colorbar": {
             "outlinewidth": 0,
             "ticks": ""
            },
            "type": "mesh3d"
           }
          ],
          "parcoords": [
           {
            "line": {
             "colorbar": {
              "outlinewidth": 0,
              "ticks": ""
             }
            },
            "type": "parcoords"
           }
          ],
          "pie": [
           {
            "automargin": true,
            "type": "pie"
           }
          ],
          "scatter": [
           {
            "fillpattern": {
             "fillmode": "overlay",
             "size": 10,
             "solidity": 0.2
            },
            "type": "scatter"
           }
          ],
          "scatter3d": [
           {
            "line": {
             "colorbar": {
              "outlinewidth": 0,
              "ticks": ""
             }
            },
            "marker": {
             "colorbar": {
              "outlinewidth": 0,
              "ticks": ""
             }
            },
            "type": "scatter3d"
           }
          ],
          "scattercarpet": [
           {
            "marker": {
             "colorbar": {
              "outlinewidth": 0,
              "ticks": ""
             }
            },
            "type": "scattercarpet"
           }
          ],
          "scattergeo": [
           {
            "marker": {
             "colorbar": {
              "outlinewidth": 0,
              "ticks": ""
             }
            },
            "type": "scattergeo"
           }
          ],
          "scattergl": [
           {
            "marker": {
             "colorbar": {
              "outlinewidth": 0,
              "ticks": ""
             }
            },
            "type": "scattergl"
           }
          ],
          "scattermapbox": [
           {
            "marker": {
             "colorbar": {
              "outlinewidth": 0,
              "ticks": ""
             }
            },
            "type": "scattermapbox"
           }
          ],
          "scatterpolar": [
           {
            "marker": {
             "colorbar": {
              "outlinewidth": 0,
              "ticks": ""
             }
            },
            "type": "scatterpolar"
           }
          ],
          "scatterpolargl": [
           {
            "marker": {
             "colorbar": {
              "outlinewidth": 0,
              "ticks": ""
             }
            },
            "type": "scatterpolargl"
           }
          ],
          "scatterternary": [
           {
            "marker": {
             "colorbar": {
              "outlinewidth": 0,
              "ticks": ""
             }
            },
            "type": "scatterternary"
           }
          ],
          "surface": [
           {
            "colorbar": {
             "outlinewidth": 0,
             "ticks": ""
            },
            "colorscale": [
             [
              0,
              "#0d0887"
             ],
             [
              0.1111111111111111,
              "#46039f"
             ],
             [
              0.2222222222222222,
              "#7201a8"
             ],
             [
              0.3333333333333333,
              "#9c179e"
             ],
             [
              0.4444444444444444,
              "#bd3786"
             ],
             [
              0.5555555555555556,
              "#d8576b"
             ],
             [
              0.6666666666666666,
              "#ed7953"
             ],
             [
              0.7777777777777778,
              "#fb9f3a"
             ],
             [
              0.8888888888888888,
              "#fdca26"
             ],
             [
              1,
              "#f0f921"
             ]
            ],
            "type": "surface"
           }
          ],
          "table": [
           {
            "cells": {
             "fill": {
              "color": "#EBF0F8"
             },
             "line": {
              "color": "white"
             }
            },
            "header": {
             "fill": {
              "color": "#C8D4E3"
             },
             "line": {
              "color": "white"
             }
            },
            "type": "table"
           }
          ]
         },
         "layout": {
          "annotationdefaults": {
           "arrowcolor": "#2a3f5f",
           "arrowhead": 0,
           "arrowwidth": 1
          },
          "autotypenumbers": "strict",
          "coloraxis": {
           "colorbar": {
            "outlinewidth": 0,
            "ticks": ""
           }
          },
          "colorscale": {
           "diverging": [
            [
             0,
             "#8e0152"
            ],
            [
             0.1,
             "#c51b7d"
            ],
            [
             0.2,
             "#de77ae"
            ],
            [
             0.3,
             "#f1b6da"
            ],
            [
             0.4,
             "#fde0ef"
            ],
            [
             0.5,
             "#f7f7f7"
            ],
            [
             0.6,
             "#e6f5d0"
            ],
            [
             0.7,
             "#b8e186"
            ],
            [
             0.8,
             "#7fbc41"
            ],
            [
             0.9,
             "#4d9221"
            ],
            [
             1,
             "#276419"
            ]
           ],
           "sequential": [
            [
             0,
             "#0d0887"
            ],
            [
             0.1111111111111111,
             "#46039f"
            ],
            [
             0.2222222222222222,
             "#7201a8"
            ],
            [
             0.3333333333333333,
             "#9c179e"
            ],
            [
             0.4444444444444444,
             "#bd3786"
            ],
            [
             0.5555555555555556,
             "#d8576b"
            ],
            [
             0.6666666666666666,
             "#ed7953"
            ],
            [
             0.7777777777777778,
             "#fb9f3a"
            ],
            [
             0.8888888888888888,
             "#fdca26"
            ],
            [
             1,
             "#f0f921"
            ]
           ],
           "sequentialminus": [
            [
             0,
             "#0d0887"
            ],
            [
             0.1111111111111111,
             "#46039f"
            ],
            [
             0.2222222222222222,
             "#7201a8"
            ],
            [
             0.3333333333333333,
             "#9c179e"
            ],
            [
             0.4444444444444444,
             "#bd3786"
            ],
            [
             0.5555555555555556,
             "#d8576b"
            ],
            [
             0.6666666666666666,
             "#ed7953"
            ],
            [
             0.7777777777777778,
             "#fb9f3a"
            ],
            [
             0.8888888888888888,
             "#fdca26"
            ],
            [
             1,
             "#f0f921"
            ]
           ]
          },
          "colorway": [
           "#636efa",
           "#EF553B",
           "#00cc96",
           "#ab63fa",
           "#FFA15A",
           "#19d3f3",
           "#FF6692",
           "#B6E880",
           "#FF97FF",
           "#FECB52"
          ],
          "font": {
           "color": "#2a3f5f"
          },
          "geo": {
           "bgcolor": "white",
           "lakecolor": "white",
           "landcolor": "#E5ECF6",
           "showlakes": true,
           "showland": true,
           "subunitcolor": "white"
          },
          "hoverlabel": {
           "align": "left"
          },
          "hovermode": "closest",
          "mapbox": {
           "style": "light"
          },
          "paper_bgcolor": "white",
          "plot_bgcolor": "#E5ECF6",
          "polar": {
           "angularaxis": {
            "gridcolor": "white",
            "linecolor": "white",
            "ticks": ""
           },
           "bgcolor": "#E5ECF6",
           "radialaxis": {
            "gridcolor": "white",
            "linecolor": "white",
            "ticks": ""
           }
          },
          "scene": {
           "xaxis": {
            "backgroundcolor": "#E5ECF6",
            "gridcolor": "white",
            "gridwidth": 2,
            "linecolor": "white",
            "showbackground": true,
            "ticks": "",
            "zerolinecolor": "white"
           },
           "yaxis": {
            "backgroundcolor": "#E5ECF6",
            "gridcolor": "white",
            "gridwidth": 2,
            "linecolor": "white",
            "showbackground": true,
            "ticks": "",
            "zerolinecolor": "white"
           },
           "zaxis": {
            "backgroundcolor": "#E5ECF6",
            "gridcolor": "white",
            "gridwidth": 2,
            "linecolor": "white",
            "showbackground": true,
            "ticks": "",
            "zerolinecolor": "white"
           }
          },
          "shapedefaults": {
           "line": {
            "color": "#2a3f5f"
           }
          },
          "ternary": {
           "aaxis": {
            "gridcolor": "white",
            "linecolor": "white",
            "ticks": ""
           },
           "baxis": {
            "gridcolor": "white",
            "linecolor": "white",
            "ticks": ""
           },
           "bgcolor": "#E5ECF6",
           "caxis": {
            "gridcolor": "white",
            "linecolor": "white",
            "ticks": ""
           }
          },
          "title": {
           "x": 0.05
          },
          "xaxis": {
           "automargin": true,
           "gridcolor": "white",
           "linecolor": "white",
           "ticks": "",
           "title": {
            "standoff": 15
           },
           "zerolinecolor": "white",
           "zerolinewidth": 2
          },
          "yaxis": {
           "automargin": true,
           "gridcolor": "white",
           "linecolor": "white",
           "ticks": "",
           "title": {
            "standoff": 15
           },
           "zerolinecolor": "white",
           "zerolinewidth": 2
          }
         }
        },
        "title": {
         "text": "USA Hate Crimes by State (1991-2018)"
        }
       }
      }
     },
     "metadata": {},
     "output_type": "display_data"
    }
   ],
   "source": [
    "#Launching the plot.\n",
    "iplot(choromap3)"
   ]
  },
  {
   "attachments": {},
   "cell_type": "markdown",
   "metadata": {},
   "source": [
    "The graph above shows unequivocally that California had the greatest total number of reported hate crimes from 1991 to 2018 out of all the states. We may mouse over the interactive graphic we created to see the numbers for ourselves, as well as all the other states."
   ]
  },
  {
   "attachments": {},
   "cell_type": "markdown",
   "metadata": {},
   "source": [
    "\n",
    "There is no specific course of action or single prescription I could make based on the results of this study that would suddenly decrease the number of prejudice and hate crimes in the United States due to the nature of the dataset's contents. Unfortunately, reality is a little bit more nuanced than that. However, I recommend more research could be made to determine causation for the rise/decline in Hate Crime Rates in America.\n"
   ]
  },
  {
   "attachments": {},
   "cell_type": "markdown",
   "metadata": {},
   "source": [
    "# Conclusion\n",
    "\n",
    "I really hope the results of my analysis were interesting to you. This finishes my FBI Hate Crimes Case Study in the USA.\n"
   ]
  }
 ],
 "metadata": {
  "kernelspec": {
   "display_name": "Python 3",
   "language": "python",
   "name": "python3"
  },
  "language_info": {
   "codemirror_mode": {
    "name": "ipython",
    "version": 3
   },
   "file_extension": ".py",
   "mimetype": "text/x-python",
   "name": "python",
   "nbconvert_exporter": "python",
   "pygments_lexer": "ipython3",
   "version": "3.8.10"
  },
  "orig_nbformat": 4,
  "vscode": {
   "interpreter": {
    "hash": "916dbcbb3f70747c44a77c7bcd40155683ae19c65e1c03b4aa3499c5328201f1"
   }
  }
 },
 "nbformat": 4,
 "nbformat_minor": 2
}
